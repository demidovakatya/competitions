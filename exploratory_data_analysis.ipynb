{
 "cells": [
  {
   "cell_type": "code",
   "execution_count": 1,
   "metadata": {
    "collapsed": false
   },
   "outputs": [],
   "source": [
    "import pandas as pd\n",
    "import numpy as np\n",
    "\n",
    "import matplotlib.pyplot as plt\n",
    "%matplotlib inline"
   ]
  },
  {
   "cell_type": "code",
   "execution_count": 2,
   "metadata": {
    "collapsed": false,
    "scrolled": true
   },
   "outputs": [
    {
     "name": "stderr",
     "output_type": "stream",
     "text": [
      "/usr/local/lib/python3.5/site-packages/matplotlib/__init__.py:1350: UserWarning:  This call to matplotlib.use() has no effect\n",
      "because the backend has already been chosen;\n",
      "matplotlib.use() must be called *before* pylab, matplotlib.pyplot,\n",
      "or matplotlib.backends is imported for the first time.\n",
      "\n",
      "  warnings.warn(_use_error_msg)\n"
     ]
    }
   ],
   "source": [
    "import pandas_profiling"
   ]
  },
  {
   "cell_type": "markdown",
   "metadata": {},
   "source": [
    "## import "
   ]
  },
  {
   "cell_type": "code",
   "execution_count": 5,
   "metadata": {
    "collapsed": false,
    "scrolled": true
   },
   "outputs": [
    {
     "name": "stderr",
     "output_type": "stream",
     "text": [
      "/usr/local/lib/python3.5/site-packages/IPython/core/interactiveshell.py:2723: DtypeWarning: Columns (0) have mixed types. Specify dtype option on import or set low_memory=False.\n",
      "  interactivity=interactivity, compiler=compiler, result=result)\n",
      "/usr/local/lib/python3.5/site-packages/IPython/core/interactiveshell.py:2723: DtypeWarning: Columns (1) have mixed types. Specify dtype option on import or set low_memory=False.\n",
      "  interactivity=interactivity, compiler=compiler, result=result)\n"
     ]
    }
   ],
   "source": [
    "# %run import.ipynb\n",
    "data_folder = 'data'\n",
    "\n",
    "train = pd.read_csv('/'.join([data_folder, \"data2.csv\"]), sep = ';')\n",
    "\n",
    "X = train.drop('cible1', axis = 1)\n",
    "y = train.cible1\n",
    "\n",
    "X_test = pd.read_csv('/'.join([data_folder, \"test2.csv\"]), sep = ';', index_col = 'id')\n",
    "\n",
    "ids = X_test.index\n",
    "\n",
    "def rename_X(X):\n",
    "    return X.rename_axis({'Finess' : 'finess',\n",
    "                           'Raison sociale' : 'raison_soc',\n",
    "                           'Provenance des patients (département)' : 'provenance',\n",
    "                           'Domaines d activités' : 'domain', \n",
    "                           'âge (deux classes >75 ans, <= 75 ans)' : 'age',\n",
    "                           'Nombre de séjours/séances MCO des patients en ALD' : 'n_sejours_ald',\n",
    "                           'Nombre total de séjours/séances' : 'n_sejours',\n",
    "                           'annee' : 'annee'},\n",
    "                          axis = 1)\n",
    "\n",
    "X = rename_X(X)\n",
    "X_test = rename_X(X_test)\n",
    "\n",
    "df = pd.concat([X, X_test], axis=0)"
   ]
  },
  {
   "cell_type": "markdown",
   "metadata": {},
   "source": [
    "## Target variable"
   ]
  },
  {
   "cell_type": "code",
   "execution_count": 6,
   "metadata": {
    "collapsed": false
   },
   "outputs": [
    {
     "data": {
      "text/plain": [
       "count    1.879842e+06\n",
       "mean     1.267647e-01\n",
       "std      1.705479e-01\n",
       "min      0.000000e+00\n",
       "25%      0.000000e+00\n",
       "50%      0.000000e+00\n",
       "75%      2.660313e-01\n",
       "max      1.000000e+00\n",
       "Name: cible1, dtype: float64"
      ]
     },
     "execution_count": 6,
     "metadata": {},
     "output_type": "execute_result"
    }
   ],
   "source": [
    "y.describe()"
   ]
  },
  {
   "cell_type": "code",
   "execution_count": 7,
   "metadata": {
    "collapsed": false
   },
   "outputs": [
    {
     "data": {
      "image/png": "[encoded data removed]",
      "text/plain": [
       "<matplotlib.figure.Figure at 0x10c10a400>"
      ]
     },
     "metadata": {},
     "output_type": "display_data"
    }
   ],
   "source": [
    "plt.figure(figsize = (14,6));\n",
    "y.hist(bins = 50);"
   ]
  },
  {
   "cell_type": "code",
   "execution_count": 8,
   "metadata": {
    "collapsed": false
   },
   "outputs": [
    {
     "data": {
      "text/plain": [
       "count    1.879842e+06\n",
       "mean             -inf\n",
       "std               NaN\n",
       "min              -inf\n",
       "25%              -inf\n",
       "50%              -inf\n",
       "75%     -1.324141e+00\n",
       "max      0.000000e+00\n",
       "Name: cible1, dtype: float64"
      ]
     },
     "execution_count": 8,
     "metadata": {},
     "output_type": "execute_result"
    }
   ],
   "source": [
    "np.log(y).describe()"
   ]
  },
  {
   "cell_type": "markdown",
   "metadata": {},
   "source": [
    "## Features"
   ]
  },
  {
   "cell_type": "code",
   "execution_count": 9,
   "metadata": {
    "collapsed": false
   },
   "outputs": [
    {
     "name": "stdout",
     "output_type": "stream",
     "text": [
      "Index(['finess', 'raison_soc', 'provenance', 'domain', 'age', 'n_sejours_ald',\n",
      "       'n_sejours', 'annee'],\n",
      "      dtype='object')\n"
     ]
    },
    {
     "data": {
      "text/html": [
       "<div>\n",
       "<table border=\"1\" class=\"dataframe\">\n",
       "  <thead>\n",
       "    <tr style=\"text-align: right;\">\n",
       "      <th></th>\n",
       "      <th>n_sejours_ald</th>\n",
       "      <th>n_sejours</th>\n",
       "      <th>annee</th>\n",
       "    </tr>\n",
       "  </thead>\n",
       "  <tbody>\n",
       "    <tr>\n",
       "      <th>count</th>\n",
       "      <td>2.544366e+06</td>\n",
       "      <td>2.544366e+06</td>\n",
       "      <td>2.544366e+06</td>\n",
       "    </tr>\n",
       "    <tr>\n",
       "      <th>mean</th>\n",
       "      <td>2.939061e+01</td>\n",
       "      <td>7.465436e+01</td>\n",
       "      <td>2.011556e+03</td>\n",
       "    </tr>\n",
       "    <tr>\n",
       "      <th>std</th>\n",
       "      <td>4.594135e+02</td>\n",
       "      <td>6.359076e+02</td>\n",
       "      <td>2.306396e+00</td>\n",
       "    </tr>\n",
       "    <tr>\n",
       "      <th>min</th>\n",
       "      <td>0.000000e+00</td>\n",
       "      <td>1.000000e+00</td>\n",
       "      <td>2.008000e+03</td>\n",
       "    </tr>\n",
       "    <tr>\n",
       "      <th>25%</th>\n",
       "      <td>0.000000e+00</td>\n",
       "      <td>1.000000e+00</td>\n",
       "      <td>2.010000e+03</td>\n",
       "    </tr>\n",
       "    <tr>\n",
       "      <th>50%</th>\n",
       "      <td>0.000000e+00</td>\n",
       "      <td>2.000000e+00</td>\n",
       "      <td>2.012000e+03</td>\n",
       "    </tr>\n",
       "    <tr>\n",
       "      <th>75%</th>\n",
       "      <td>2.000000e+00</td>\n",
       "      <td>8.000000e+00</td>\n",
       "      <td>2.014000e+03</td>\n",
       "    </tr>\n",
       "    <tr>\n",
       "      <th>max</th>\n",
       "      <td>8.734300e+04</td>\n",
       "      <td>1.009720e+05</td>\n",
       "      <td>2.015000e+03</td>\n",
       "    </tr>\n",
       "  </tbody>\n",
       "</table>\n",
       "</div>"
      ],
      "text/plain": [
       "       n_sejours_ald     n_sejours         annee\n",
       "count   2.544366e+06  2.544366e+06  2.544366e+06\n",
       "mean    2.939061e+01  7.465436e+01  2.011556e+03\n",
       "std     4.594135e+02  6.359076e+02  2.306396e+00\n",
       "min     0.000000e+00  1.000000e+00  2.008000e+03\n",
       "25%     0.000000e+00  1.000000e+00  2.010000e+03\n",
       "50%     0.000000e+00  2.000000e+00  2.012000e+03\n",
       "75%     2.000000e+00  8.000000e+00  2.014000e+03\n",
       "max     8.734300e+04  1.009720e+05  2.015000e+03"
      ]
     },
     "execution_count": 9,
     "metadata": {},
     "output_type": "execute_result"
    }
   ],
   "source": [
    "df.shape\n",
    "print(df.columns)\n",
    "df.describe()"
   ]
  },
  {
   "cell_type": "markdown",
   "metadata": {},
   "source": [
    "## `pandas_profiling`"
   ]
  },
  {
   "cell_type": "code",
   "execution_count": 10,
   "metadata": {
    "collapsed": false
   },
   "outputs": [
    {
     "name": "stdout",
     "output_type": "stream",
     "text": [
      "CPU times: user 3min 52s, sys: 6.94 s, total: 3min 59s\n",
      "Wall time: 4min 1s\n"
     ]
    }
   ],
   "source": [
    "%time rep = pandas_profiling.ProfileReport(df)\n",
    "rep.to_file('pandas_profiling_report.html')"
   ]
  },
  {
   "cell_type": "code",
   "execution_count": null,
   "metadata": {
    "collapsed": true
   },
   "outputs": [],
   "source": []
  }
 ],
 "metadata": {
  "kernelspec": {
   "display_name": "Python 3",
   "language": "python",
   "name": "python3"
  },
  "language_info": {
   "codemirror_mode": {
    "name": "ipython",
    "version": 3
   },
   "file_extension": ".py",
   "mimetype": "text/x-python",
   "name": "python",
   "nbconvert_exporter": "python",
   "pygments_lexer": "ipython3",
   "version": "3.5.2"
  }
 },
 "nbformat": 4,
 "nbformat_minor": 1
}
