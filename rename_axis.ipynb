{
 "cells": [
  {
   "cell_type": "markdown",
   "metadata": {},
   "source": [
    "## rename axis, merge"
   ]
  },
  {
   "cell_type": "code",
   "execution_count": 2,
   "metadata": {
    "collapsed": false
   },
   "outputs": [],
   "source": [
    "%run import.ipynb"
   ]
  },
  {
   "cell_type": "code",
   "execution_count": 6,
   "metadata": {
    "collapsed": true
   },
   "outputs": [],
   "source": [
    "def rename_X(X):\n",
    "    return X.rename_axis({'Finess' : 'est_id',\n",
    "                           'Raison sociale' : 'est_name',\n",
    "                           'Provenance des patients (département)' : 'department',\n",
    "                           'Domaines d activités' : 'field_of_activity', \n",
    "                           'âge (deux classes >75 ans, <= 75 ans)' : 'age',\n",
    "                           'Nombre de séjours/séances MCO des patients en ALD' : 'stays_long_term',\n",
    "                           'Nombre total de séjours/séances' : 'stays_total',\n",
    "                           'annee' : 'year'},\n",
    "                          axis = 1)\n",
    "\n",
    "X = rename_X(X)\n",
    "X_test = rename_X(X_test)\n",
    "\n",
    "df = pd.concat([X, X_test], axis=0)"
   ]
  }
 ],
 "metadata": {
  "kernelspec": {
   "display_name": "Python 3",
   "language": "python",
   "name": "python3"
  },
  "language_info": {
   "codemirror_mode": {
    "name": "ipython",
    "version": 3
   },
   "file_extension": ".py",
   "mimetype": "text/x-python",
   "name": "python",
   "nbconvert_exporter": "python",
   "pygments_lexer": "ipython3",
   "version": "3.5.2"
  }
 },
 "nbformat": 4,
 "nbformat_minor": 1
}
