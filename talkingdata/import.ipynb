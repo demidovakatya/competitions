{
 "cells": [
  {
   "cell_type": "code",
   "execution_count": null,
   "metadata": {
    "collapsed": true
   },
   "outputs": [],
   "source": [
    "# !export LC_ALL=en_US.UTF8"
   ]
  },
  {
   "cell_type": "code",
   "execution_count": 1,
   "metadata": {
    "collapsed": false
   },
   "outputs": [],
   "source": [
    "import pandas as pd\n",
    "import numpy as np\n",
    "\n",
    "import pandas_profiling\n",
    "\n",
    "import matplotlib.pyplot as plt\n",
    "%matplotlib inline"
   ]
  },
  {
   "cell_type": "code",
   "execution_count": 2,
   "metadata": {
    "collapsed": true
   },
   "outputs": [],
   "source": [
    "from create_submission import create_submission"
   ]
  },
  {
   "cell_type": "markdown",
   "metadata": {},
   "source": [
    "---------\n",
    "\n",
    "## Reading"
   ]
  },
  {
   "cell_type": "code",
   "execution_count": 3,
   "metadata": {
    "collapsed": false
   },
   "outputs": [],
   "source": [
    "# !ls ./data/"
   ]
  },
  {
   "cell_type": "markdown",
   "metadata": {},
   "source": [
    "* Events"
   ]
  },
  {
   "cell_type": "code",
   "execution_count": 3,
   "metadata": {
    "collapsed": true
   },
   "outputs": [],
   "source": [
    "events = pd.read_csv(\"data/events.csv\", dtype={'device_id': np.str})\n",
    "events['counts'] = events.groupby(['device_id'])['event_id'].transform('count')\n",
    "events_small = events[['device_id', 'counts']].drop_duplicates('device_id', keep='first')"
   ]
  },
  {
   "cell_type": "markdown",
   "metadata": {},
   "source": [
    "* Brands"
   ]
  },
  {
   "cell_type": "code",
   "execution_count": null,
   "metadata": {
    "collapsed": true
   },
   "outputs": [],
   "source": [
    "phones = pd.read_csv(\"data/phone_brand_device_model.csv\", dtype={'device_id': np.str})\n",
    "phones.drop_duplicates('device_id', keep='first', inplace=True)\n",
    "phones = map_column(phones, 'phone_brand')\n",
    "phones = map_column(phones, 'device_model')"
   ]
  },
  {
   "cell_type": "markdown",
   "metadata": {},
   "source": [
    "* Train & test"
   ]
  },
  {
   "cell_type": "code",
   "execution_count": null,
   "metadata": {
    "collapsed": true
   },
   "outputs": [],
   "source": [
    "train = pd.read_csv(\"data/gender_age_train.csv\", dtype={'device_id': np.str})\n",
    "train = map_column(train, 'group')\n",
    "train = train.drop(['age'], axis=1)\n",
    "train = train.drop(['gender'], axis=1)\n",
    "train = pd.merge(train, pbd, how='left', on='device_id', left_index=True)\n",
    "train = pd.merge(train, events_small, how='left', on='device_id', left_index=True)\n",
    "train.fillna(-1, inplace=True)\n",
    "\n",
    "test = pd.read_csv(\"data/gender_age_test.csv\", dtype={'device_id': np.str})\n",
    "test = pd.merge(test, pbd, how='left', on='device_id', left_index=True)\n",
    "test = pd.merge(test, events_small, how='left', on='device_id', left_index=True)\n",
    "test.fillna(-1, inplace=True)"
   ]
  },
  {
   "cell_type": "markdown",
   "metadata": {},
   "source": [
    "* Target"
   ]
  },
  {
   "cell_type": "code",
   "execution_count": null,
   "metadata": {
    "collapsed": true
   },
   "outputs": [],
   "source": [
    "features = list(test.columns.values)\n",
    "features.remove('device_id')"
   ]
  },
  {
   "cell_type": "code",
   "execution_count": 3,
   "metadata": {
    "collapsed": false
   },
   "outputs": [],
   "source": [
    "# app_labels = pd.read_csv(\"data/app_labels.csv\")\n",
    "# app_events = pd.read_csv(\"data/app_events.csv\")\n",
    "# train = pd.read_csv(\"data/gender_age_train.csv\")\n",
    "# # phones = pd.read_csv(\"data/phone_brand_device_model.csv\")\n",
    "# phones = pd.read_csv(\"data/phones.csv\")\n",
    "# label_categories = pd.read_csv(\"data/label_categories.csv\")\n",
    "\n",
    "# events = pd.read_csv(\"data/events.csv\")\n",
    "\n",
    "# sample_sub = pd.read_csv(\"data/sample_submission.csv\")"
   ]
  },
  {
   "cell_type": "code",
   "execution_count": 5,
   "metadata": {
    "collapsed": false
   },
   "outputs": [
    {
     "name": "stdout",
     "output_type": "stream",
     "text": [
      "(459943, 2)\n",
      "(32473067, 4)\n",
      "(74645, 4)\n",
      "(187245, 3)\n",
      "(3252950, 5)\n",
      "(930, 2)\n"
     ]
    }
   ],
   "source": [
    "# print(app_labels.shape)\n",
    "# app_labels.head()\n",
    "\n",
    "# print(app_events.shape)\n",
    "# app_events.head()\n",
    "\n",
    "print(train.shape)\n",
    "# train.head()\n",
    "\n",
    "print(test.shape)\n",
    "# test.head()\n",
    "\n",
    "print(phones.shape)\n",
    "# phones.head()\n",
    "\n",
    "print(events.shape)\n",
    "# events.head()\n",
    "\n",
    "print(label_categories.shape)\n",
    "# label_categories.head()"
   ]
  },
  {
   "cell_type": "markdown",
   "metadata": {},
   "source": [
    "---------\n",
    "\n",
    "## Cleaning"
   ]
  },
  {
   "cell_type": "markdown",
   "metadata": {},
   "source": [
    "### File descriptions\n",
    "\n",
    "* `gender_age_train.csv`, `gender_age_train.csv` - the training and test set\n",
    "    * `group`: this is the target variable you are going to predict\n",
    "* `events.csv`, `app_events.csv` - when a user uses TalkingData SDK, the event gets logged in this data. Each event has an event id, location (lat/long), and the event corresponds to a list of apps in `app_events`.\n",
    "    * `timestamp`: when the user is using an app with TalkingData SDK\n",
    "* `app_labels.csv` - apps and their labels, the `label_id`'s can be used to join with `label_categories`\n",
    "* `label_categories.csv` - apps' labels and their categories in text\n",
    "* `phone_brand_device_model.csv` - device ids, brand, and models\n",
    "    * `phone_brand`: note that the brands are in Chinese\n",
    "        * 小米 xiaomi\n",
    "        * 三星 sangsung\n",
    "        * 苹果 apple\n",
    "        * 华为 huawei\n",
    "        * 魅族 meizu\n",
    "        * 酷派 coolpad\n",
    "        * 天语 K-touch\n",
    "        * 中兴 ZTE\n",
    "        * 金立 gionee\n",
    "        * 海信 Hisense\n",
    "        * 联想 Lenovo\n",
    "        * 索尼 sony\n",
    "        * 酷比 koobee\n",
    "        * 康佳 konka\n",
    "        * 奇酷 qiku\n",
    "        * 欧博信 opsson\n",
    "* `sample_submission.csv` - a sample submission file in the correct format"
   ]
  },
  {
   "cell_type": "code",
   "execution_count": 89,
   "metadata": {
    "collapsed": false
   },
   "outputs": [
    {
     "data": {
      "text/html": [
       "<div>\n",
       "<table border=\"1\" class=\"dataframe\">\n",
       "  <thead>\n",
       "    <tr style=\"text-align: right;\">\n",
       "      <th></th>\n",
       "      <th>device_id</th>\n",
       "      <th>F23-</th>\n",
       "      <th>F24-26</th>\n",
       "      <th>F27-28</th>\n",
       "      <th>F29-32</th>\n",
       "      <th>F33-42</th>\n",
       "      <th>F43+</th>\n",
       "      <th>M22-</th>\n",
       "      <th>M23-26</th>\n",
       "      <th>M27-28</th>\n",
       "      <th>M29-31</th>\n",
       "      <th>M32-38</th>\n",
       "      <th>M39+</th>\n",
       "    </tr>\n",
       "  </thead>\n",
       "  <tbody>\n",
       "    <tr>\n",
       "      <th>0</th>\n",
       "      <td>1002079943728939269</td>\n",
       "      <td>0.0833</td>\n",
       "      <td>0.0833</td>\n",
       "      <td>0.0833</td>\n",
       "      <td>0.0833</td>\n",
       "      <td>0.0833</td>\n",
       "      <td>0.0833</td>\n",
       "      <td>0.0833</td>\n",
       "      <td>0.0833</td>\n",
       "      <td>0.0833</td>\n",
       "      <td>0.0833</td>\n",
       "      <td>0.0833</td>\n",
       "      <td>0.0833</td>\n",
       "    </tr>\n",
       "    <tr>\n",
       "      <th>1</th>\n",
       "      <td>-1547860181818787117</td>\n",
       "      <td>0.0833</td>\n",
       "      <td>0.0833</td>\n",
       "      <td>0.0833</td>\n",
       "      <td>0.0833</td>\n",
       "      <td>0.0833</td>\n",
       "      <td>0.0833</td>\n",
       "      <td>0.0833</td>\n",
       "      <td>0.0833</td>\n",
       "      <td>0.0833</td>\n",
       "      <td>0.0833</td>\n",
       "      <td>0.0833</td>\n",
       "      <td>0.0833</td>\n",
       "    </tr>\n",
       "    <tr>\n",
       "      <th>2</th>\n",
       "      <td>7374582448058474277</td>\n",
       "      <td>0.0833</td>\n",
       "      <td>0.0833</td>\n",
       "      <td>0.0833</td>\n",
       "      <td>0.0833</td>\n",
       "      <td>0.0833</td>\n",
       "      <td>0.0833</td>\n",
       "      <td>0.0833</td>\n",
       "      <td>0.0833</td>\n",
       "      <td>0.0833</td>\n",
       "      <td>0.0833</td>\n",
       "      <td>0.0833</td>\n",
       "      <td>0.0833</td>\n",
       "    </tr>\n",
       "    <tr>\n",
       "      <th>3</th>\n",
       "      <td>-6220210354783429585</td>\n",
       "      <td>0.0833</td>\n",
       "      <td>0.0833</td>\n",
       "      <td>0.0833</td>\n",
       "      <td>0.0833</td>\n",
       "      <td>0.0833</td>\n",
       "      <td>0.0833</td>\n",
       "      <td>0.0833</td>\n",
       "      <td>0.0833</td>\n",
       "      <td>0.0833</td>\n",
       "      <td>0.0833</td>\n",
       "      <td>0.0833</td>\n",
       "      <td>0.0833</td>\n",
       "    </tr>\n",
       "    <tr>\n",
       "      <th>4</th>\n",
       "      <td>-5893464122623104785</td>\n",
       "      <td>0.0833</td>\n",
       "      <td>0.0833</td>\n",
       "      <td>0.0833</td>\n",
       "      <td>0.0833</td>\n",
       "      <td>0.0833</td>\n",
       "      <td>0.0833</td>\n",
       "      <td>0.0833</td>\n",
       "      <td>0.0833</td>\n",
       "      <td>0.0833</td>\n",
       "      <td>0.0833</td>\n",
       "      <td>0.0833</td>\n",
       "      <td>0.0833</td>\n",
       "    </tr>\n",
       "  </tbody>\n",
       "</table>\n",
       "</div>"
      ],
      "text/plain": [
       "             device_id    F23-  F24-26  F27-28  F29-32  F33-42    F43+  \\\n",
       "0  1002079943728939269  0.0833  0.0833  0.0833  0.0833  0.0833  0.0833   \n",
       "1 -1547860181818787117  0.0833  0.0833  0.0833  0.0833  0.0833  0.0833   \n",
       "2  7374582448058474277  0.0833  0.0833  0.0833  0.0833  0.0833  0.0833   \n",
       "3 -6220210354783429585  0.0833  0.0833  0.0833  0.0833  0.0833  0.0833   \n",
       "4 -5893464122623104785  0.0833  0.0833  0.0833  0.0833  0.0833  0.0833   \n",
       "\n",
       "     M22-  M23-26  M27-28  M29-31  M32-38    M39+  \n",
       "0  0.0833  0.0833  0.0833  0.0833  0.0833  0.0833  \n",
       "1  0.0833  0.0833  0.0833  0.0833  0.0833  0.0833  \n",
       "2  0.0833  0.0833  0.0833  0.0833  0.0833  0.0833  \n",
       "3  0.0833  0.0833  0.0833  0.0833  0.0833  0.0833  \n",
       "4  0.0833  0.0833  0.0833  0.0833  0.0833  0.0833  "
      ]
     },
     "execution_count": 89,
     "metadata": {},
     "output_type": "execute_result"
    }
   ],
   "source": [
    "sample_sub.head()"
   ]
  },
  {
   "cell_type": "markdown",
   "metadata": {},
   "source": [
    "-----\n",
    "### Translating phone brands' names"
   ]
  },
  {
   "cell_type": "code",
   "execution_count": 70,
   "metadata": {
    "collapsed": false
   },
   "outputs": [
    {
     "name": "stdout",
     "output_type": "stream",
     "text": [
      "   phone_brand     brand\n",
      "0           小米    xiaomi\n",
      "1           三星  sangsung\n",
      "2           苹果     apple\n",
      "3           华为    huawei\n",
      "4           魅族     meizu\n",
      "5           酷派   coolpad\n",
      "6           天语   K-touch\n",
      "7           中兴       ZTE\n",
      "8           金立    gionee\n",
      "9           海信   Hisense\n",
      "10          联想    Lenovo\n",
      "11          索尼      sony\n",
      "12          酷比    koobee\n",
      "13          康佳     konka\n",
      "14          奇酷      qiku\n",
      "15         欧博信    opsson\n",
      "\n",
      "\n",
      "========== phones' last 10 rows\n",
      "                  device_id device_model   brand\n",
      "145281 -4482696120138446487     IVO 6655  opsson\n",
      "145282  4613939269386649923          Q3C  opsson\n",
      "145283 -2477559452412485718     IVO 6666  opsson\n",
      "145284 -7687510258203758013           D1  opsson\n",
      "145285  1420741651959055894     IVO 6688  opsson\n",
      "145286  2457053156373760353     IVO 8800  opsson\n",
      "145287  8728719520886912421     IVO 6655  opsson\n",
      "145288  2195155146355827586     IVO 8800  opsson\n",
      "145289 -7148236089014830095     IVO 8800  opsson\n",
      "145290 -4646161890445337322          Q3C  opsson\n"
     ]
    }
   ],
   "source": [
    "phone_names_translation = pd.read_csv(\"data/phone_names_translation.csv\", \n",
    "                                      header = None, \n",
    "                                      names = ['phone_brand', 'brand'])\n",
    "print(phone_names_translation)\n",
    "\n",
    "# phones = pd.merge(phones, phone_names_translation)\n",
    "# del phones['phone_brand']\n",
    "# phones.to_csv(\"phones.csv\", index_label=False, encoding='UTF8')\n",
    "\n",
    "print('\\n\\n========== phones\\' last 10 rows')\n",
    "print(phones.tail(10))"
   ]
  },
  {
   "cell_type": "code",
   "execution_count": null,
   "metadata": {
    "collapsed": true
   },
   "outputs": [],
   "source": [
    "# app_labels['app_id'] = [str(i) for i  in app_labels.app_id]\n",
    "# app_labels['label_id'] = [str(i) for i  in app_labels.label_id]\n",
    "\n",
    "# app_events['app_id'] = [str(i) for i  in app_events.app_id]\n",
    "# app_events['event_id'] = [str(i) for i  in app_events.event_id]\n",
    "\n",
    "# label_categories['label_id'] = [str(i) for i  in label_categories.label_id]\n",
    "# ga_train['device_id'] = [str(i) for i  in ga_train.device_id]\n",
    "# phones['device_id'] = [str(i) for i in phones.device_id]\n",
    "\n",
    "# events['device_id'] = [str(i) for i in events.device_id]\n",
    "# events['event_id'] = [str(i) for i in events.event_id]"
   ]
  },
  {
   "cell_type": "markdown",
   "metadata": {},
   "source": [
    "---------\n",
    "\n",
    "### Merging"
   ]
  },
  {
   "cell_type": "code",
   "execution_count": 31,
   "metadata": {
    "collapsed": true
   },
   "outputs": [],
   "source": [
    "df_apps = pd.merge(app_labels, label_categories)"
   ]
  },
  {
   "cell_type": "code",
   "execution_count": 56,
   "metadata": {
    "collapsed": true
   },
   "outputs": [],
   "source": [
    "df_people = pd.merge(phones, train)"
   ]
  },
  {
   "cell_type": "code",
   "execution_count": 28,
   "metadata": {
    "collapsed": true
   },
   "outputs": [],
   "source": [
    "df = pd.merge(df_apps, df_people)"
   ]
  },
  {
   "cell_type": "code",
   "execution_count": 5,
   "metadata": {
    "collapsed": true
   },
   "outputs": [],
   "source": [
    "df_events = pd.merge(events, app_events)"
   ]
  },
  {
   "cell_type": "code",
   "execution_count": null,
   "metadata": {
    "collapsed": true
   },
   "outputs": [],
   "source": [
    "df = pd.merge(df, df_events)"
   ]
  },
  {
   "cell_type": "code",
   "execution_count": null,
   "metadata": {
    "collapsed": true
   },
   "outputs": [],
   "source": [
    "df = (pd.merge(pd.merge(pd.merge(pd.merge\n",
    "             (pd.merge(events, app_events), app_labels), \n",
    "         label_categories), \n",
    "        train), phones))\n",
    "\n",
    "# df = pd.merge(pd.merge(events, app_events), app_labels)\n",
    "# df = (pd.merge(\n",
    "#         pd.merge(app_events, \n",
    "#                         pd.merge(events, pd.merge(train, phones))), \n",
    "#         app_labels))"
   ]
  },
  {
   "cell_type": "code",
   "execution_count": 29,
   "metadata": {
    "collapsed": false
   },
   "outputs": [
    {
     "name": "stdout",
     "output_type": "stream",
     "text": [
      "   event_id            device_id            timestamp  longitude  latitude  \\\n",
      "0         6  1476664663289716375  2016-05-01 00:27:21        0.0       0.0   \n",
      "1     58641  1476664663289716375  2016-05-02 21:08:36        0.0       0.0   \n",
      "2    131844  1476664663289716375  2016-05-07 12:17:55        0.0       0.0   \n",
      "3    150542  1476664663289716375  2016-05-07 12:17:01        0.0       0.0   \n",
      "4    184730  1476664663289716375  2016-05-06 19:45:53        0.0       0.0   \n",
      "\n",
      "                app_id  is_installed  is_active  label_id  \\\n",
      "0  5927333115845830913             1          1       549   \n",
      "1  5927333115845830913             1          1       549   \n",
      "2  5927333115845830913             1          1       549   \n",
      "3  5927333115845830913             1          1       549   \n",
      "4  5927333115845830913             1          1       549   \n",
      "\n",
      "                category device_model   brand gender  age group  \n",
      "0  Property Industry 1.0       Mate 7  huawei      M   19  M22-  \n",
      "1  Property Industry 1.0       Mate 7  huawei      M   19  M22-  \n",
      "2  Property Industry 1.0       Mate 7  huawei      M   19  M22-  \n",
      "3  Property Industry 1.0       Mate 7  huawei      M   19  M22-  \n",
      "4  Property Industry 1.0       Mate 7  huawei      M   19  M22-  \n",
      "(63137148, 15)\n"
     ]
    }
   ],
   "source": [
    "print(df.head())\n",
    "print(df.shape)"
   ]
  },
  {
   "cell_type": "markdown",
   "metadata": {},
   "source": [
    "---------\n",
    "\n",
    "## Exploring\n",
    "\n",
    "----->     `    eda.ipynb`"
   ]
  },
  {
   "cell_type": "markdown",
   "metadata": {},
   "source": [
    "---------\n",
    "\n",
    "## Splitting"
   ]
  },
  {
   "cell_type": "code",
   "execution_count": null,
   "metadata": {
    "collapsed": true
   },
   "outputs": [],
   "source": [
    "X = df.drop('group', axis=1)\n",
    "y = df.group\n",
    "print(X.shape)\n",
    "print(y.shape)"
   ]
  },
  {
   "cell_type": "code",
   "execution_count": 36,
   "metadata": {
    "collapsed": false
   },
   "outputs": [
    {
     "name": "stdout",
     "output_type": "stream",
     "text": [
      "              device_id gender  age   group phone_brand device_model\n",
      "0  -8076087639492063270      M   35  M32-38          小米         MI 2\n",
      "1  -2897161552818060146      M   35  M32-38          小米         MI 2\n",
      "2  -8260683887967679142      M   35  M32-38          小米         MI 2\n",
      "3  -4938849341048082022      M   30  M29-31          小米       红米note\n",
      "4    245133531816851882      M   30  M29-31          小米         MI 3\n",
      "(74839, 5)\n",
      "(74839,)\n"
     ]
    }
   ],
   "source": [
    "from sklearn.cross_validation import train_test_split\n",
    "(X_train, X_test, \n",
    " y_train, y_test) = train_test_split(X, y, \n",
    "                                     test_size = 0.3, \n",
    "                                     random_state = 0)"
   ]
  },
  {
   "cell_type": "code",
   "execution_count": null,
   "metadata": {
    "collapsed": true
   },
   "outputs": [],
   "source": []
  }
 ],
 "metadata": {
  "kernelspec": {
   "display_name": "Python 3",
   "language": "python",
   "name": "python3"
  },
  "language_info": {
   "codemirror_mode": {
    "name": "ipython",
    "version": 3
   },
   "file_extension": ".py",
   "mimetype": "text/x-python",
   "name": "python",
   "nbconvert_exporter": "python",
   "pygments_lexer": "ipython3",
   "version": "3.5.2"
  }
 },
 "nbformat": 4,
 "nbformat_minor": 0
}
