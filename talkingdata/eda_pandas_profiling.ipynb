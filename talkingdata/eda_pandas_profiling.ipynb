{
 "cells": [
  {
   "cell_type": "code",
   "execution_count": 2,
   "metadata": {
    "collapsed": true
   },
   "outputs": [],
   "source": [
    "import pandas_profiling"
   ]
  },
  {
   "cell_type": "markdown",
   "metadata": {},
   "source": [
    "## Events"
   ]
  },
  {
   "cell_type": "code",
   "execution_count": 3,
   "metadata": {
    "collapsed": true
   },
   "outputs": [],
   "source": [
    "events = pd.read_csv(\"data/events.csv\", dtype={'device_id': np.str})"
   ]
  },
  {
   "cell_type": "code",
   "execution_count": 5,
   "metadata": {
    "collapsed": false
   },
   "outputs": [
    {
     "name": "stdout",
     "output_type": "stream",
     "text": [
      "CPU times: user 4min 5s, sys: 9.31 s, total: 4min 15s\n",
      "Wall time: 4min 20s\n"
     ]
    }
   ],
   "source": [
    "%time rep = pandas_profiling.ProfileReport(events)\n",
    "rep.to_file('pandas_profiling_report_events.html')"
   ]
  },
  {
   "cell_type": "markdown",
   "metadata": {},
   "source": [
    "## Phones"
   ]
  },
  {
   "cell_type": "code",
   "execution_count": 6,
   "metadata": {
    "collapsed": true
   },
   "outputs": [],
   "source": [
    "phones = pd.read_csv(\"data/phone_brand_device_model.csv\", dtype={'device_id': np.str})\n",
    "# phones.drop_duplicates('device_id', keep='first', inplace=True)\n",
    "# phones = map_column(phones, 'phone_brand')\n",
    "# phones = map_column(phones, 'device_model')"
   ]
  },
  {
   "cell_type": "code",
   "execution_count": 7,
   "metadata": {
    "collapsed": false
   },
   "outputs": [
    {
     "name": "stdout",
     "output_type": "stream",
     "text": [
      "CPU times: user 1.48 s, sys: 61.1 ms, total: 1.54 s\n",
      "Wall time: 1.55 s\n"
     ]
    }
   ],
   "source": [
    "%time rep = pandas_profiling.ProfileReport(phones)\n",
    "rep.to_file('pandas_profiling_report_phones_brands.html')"
   ]
  },
  {
   "cell_type": "markdown",
   "metadata": {},
   "source": [
    "## Train"
   ]
  },
  {
   "cell_type": "code",
   "execution_count": 9,
   "metadata": {
    "collapsed": true
   },
   "outputs": [],
   "source": [
    "train = pd.read_csv(\"data/gender_age_train.csv\", dtype={'device_id': np.str})\n",
    "# train = map_column(train, 'group')\n",
    "# train = train.drop(['age'], axis=1)\n",
    "# train = train.drop(['gender'], axis=1)\n",
    "# train = pd.merge(train, pbd, how='left', on='device_id', left_index=True)\n",
    "# train = pd.merge(train, events_small, how='left', on='device_id', left_index=True)\n",
    "# train.fillna(-1, inplace=True)"
   ]
  },
  {
   "cell_type": "code",
   "execution_count": 10,
   "metadata": {
    "collapsed": false
   },
   "outputs": [
    {
     "name": "stdout",
     "output_type": "stream",
     "text": [
      "CPU times: user 2.26 s, sys: 47.2 ms, total: 2.31 s\n",
      "Wall time: 2.31 s\n"
     ]
    }
   ],
   "source": [
    "%time rep = pandas_profiling.ProfileReport(train)\n",
    "rep.to_file('pandas_profiling_report_train.html')"
   ]
  },
  {
   "cell_type": "markdown",
   "metadata": {},
   "source": [
    "## Test"
   ]
  },
  {
   "cell_type": "code",
   "execution_count": 11,
   "metadata": {
    "collapsed": true
   },
   "outputs": [],
   "source": [
    "test = pd.read_csv(\"data/gender_age_test.csv\", dtype={'device_id': np.str})\n",
    "# test = pd.merge(test, pbd, how='left', on='device_id', left_index=True)\n",
    "# test = pd.merge(test, events_small, how='left', on='device_id', left_index=True)\n",
    "# test.fillna(-1, inplace=True)"
   ]
  },
  {
   "cell_type": "code",
   "execution_count": 12,
   "metadata": {
    "collapsed": false
   },
   "outputs": [
    {
     "name": "stdout",
     "output_type": "stream",
     "text": [
      "CPU times: user 651 ms, sys: 79.8 ms, total: 731 ms\n",
      "Wall time: 733 ms\n"
     ]
    }
   ],
   "source": [
    "%time rep = pandas_profiling.ProfileReport(test)\n",
    "rep.to_file('pandas_profiling_report_test.html')"
   ]
  },
  {
   "cell_type": "code",
   "execution_count": null,
   "metadata": {
    "collapsed": true
   },
   "outputs": [],
   "source": []
  }
 ],
 "metadata": {
  "kernelspec": {
   "display_name": "Python 3",
   "language": "python",
   "name": "python3"
  },
  "language_info": {
   "codemirror_mode": {
    "name": "ipython",
    "version": 3
   },
   "file_extension": ".py",
   "mimetype": "text/x-python",
   "name": "python",
   "nbconvert_exporter": "python",
   "pygments_lexer": "ipython3",
   "version": "3.5.2"
  }
 },
 "nbformat": 4,
 "nbformat_minor": 0
}
