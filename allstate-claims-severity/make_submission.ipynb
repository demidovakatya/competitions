{
 "cells": [
  {
   "cell_type": "code",
   "execution_count": 1,
   "metadata": {
    "collapsed": true
   },
   "outputs": [],
   "source": [
    "import pandas as pd\n",
    "import numpy as np\n",
    "from datetime import datetime"
   ]
  },
  {
   "cell_type": "code",
   "execution_count": 4,
   "metadata": {
    "collapsed": true
   },
   "outputs": [],
   "source": [
    "example = pd.read_csv('submissions/exemple.csv', sep = ';')"
   ]
  },
  {
   "cell_type": "code",
   "execution_count": 6,
   "metadata": {
    "collapsed": false
   },
   "outputs": [],
   "source": [
    "id = example.id"
   ]
  },
  {
   "cell_type": "code",
   "execution_count": 7,
   "metadata": {
    "collapsed": true
   },
   "outputs": [],
   "source": [
    "def submission_to_csv(cible, filename, id = id):\n",
    "    (pd.DataFrame(cible, id)\n",
    "     .to_csv(filename, sep=';', \n",
    "             index_label = 'id', \n",
    "             header = ['cible'], \n",
    "             float_format = '{.1f}')\n",
    "    )"
   ]
  },
  {
   "cell_type": "code",
   "execution_count": null,
   "metadata": {
    "collapsed": true
   },
   "outputs": [],
   "source": [
    "def make_submission_gridsearch(gsearch, pred):\n",
    "    cible = ['{0:.1f}'.format(p) for p in pred]\n",
    "    \n",
    "    params = '_'.join([('%s_%s' % (k, v)) for k, v in gsearch.best_params_.items()])\n",
    "    datename = datetime.now().strftime(format = '%d%m_%H%M')\n",
    "    folder = 'submissions'\n",
    "    filename = folder + '/' + 'xgb_tuning_' + params + '_' + datename + '.csv'\n",
    "#     print('saving to %s...' % filename)\n",
    "\n",
    "    submission_to_csv(cible, filename)"
   ]
  },
  {
   "cell_type": "code",
   "execution_count": null,
   "metadata": {
    "collapsed": true
   },
   "outputs": [],
   "source": [
    "def make_submission(pred, n_trees, rmse):\n",
    "    cible = ['{0:.1f}'.format(p) for p in pred]\n",
    "    \n",
    "    datename = datetime.now().strftime(format = '%d%m_%H%M')\n",
    "    \n",
    "    folder = 'submissions'\n",
    "    filename = folder + '/' + 'xgb_' + rmse_train + '_' + str(n_trees) + 'trees_' + datename + '.csv'\n",
    "    # filename = folder + '/' + 'xgb_' + datename + '.csv'\n",
    "#     print('saving to %s...' % filename)\n",
    "\n",
    "    submission_to_csv(cible, filename)"
   ]
  }
 ],
 "metadata": {
  "kernelspec": {
   "display_name": "Python 3",
   "language": "python",
   "name": "python3"
  },
  "language_info": {
   "codemirror_mode": {
    "name": "ipython",
    "version": 3
   },
   "file_extension": ".py",
   "mimetype": "text/x-python",
   "name": "python",
   "nbconvert_exporter": "python",
   "pygments_lexer": "ipython3",
   "version": "3.4.3"
  }
 },
 "nbformat": 4,
 "nbformat_minor": 1
}
