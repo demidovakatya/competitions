{
 "cells": [
  {
   "cell_type": "code",
   "execution_count": 4,
   "metadata": {
    "collapsed": false
   },
   "outputs": [],
   "source": [
    "import pandas as pd\n",
    "import numpy as np\n",
    "\n",
    "import pandas_profiling\n",
    "import matplotlib.pyplot as plt\n",
    "# import seaborn\n",
    "%matplotlib inline"
   ]
  },
  {
   "cell_type": "markdown",
   "metadata": {},
   "source": [
    "## import "
   ]
  },
  {
   "cell_type": "code",
   "execution_count": 5,
   "metadata": {
    "collapsed": false,
    "scrolled": true
   },
   "outputs": [],
   "source": [
    "%run import.ipynb"
   ]
  },
  {
   "cell_type": "markdown",
   "metadata": {},
   "source": [
    "Each row in this dataset represents an insurance claim. You must predict the value for the `loss` column. Variables prefaced with `cat` are categorical, while those prefaced with `cont` are continuous."
   ]
  },
  {
   "cell_type": "markdown",
   "metadata": {},
   "source": [
    "## `pandas_profiling`"
   ]
  },
  {
   "cell_type": "code",
   "execution_count": 6,
   "metadata": {
    "collapsed": false,
    "scrolled": false
   },
   "outputs": [],
   "source": [
    "# %time rep = pandas_profiling.ProfileReport(df)\n",
    "# rep.to_file('./pandas_profiling_report.html')"
   ]
  },
  {
   "cell_type": "markdown",
   "metadata": {},
   "source": [
    "```CPU times: user 8.86 s, sys: 1.46 s, total: 10.3 s\n",
    "Wall time: 1min 16s```"
   ]
  },
  {
   "cell_type": "markdown",
   "metadata": {},
   "source": [
    "## Target variable"
   ]
  },
  {
   "cell_type": "code",
   "execution_count": 7,
   "metadata": {
    "collapsed": false,
    "scrolled": false
   },
   "outputs": [
    {
     "data": {
      "text/plain": [
       "count    188318.000000\n",
       "mean       3037.337686\n",
       "std        2904.086186\n",
       "min           0.670000\n",
       "25%        1204.460000\n",
       "50%        2115.570000\n",
       "75%        3864.045000\n",
       "max      121012.250000\n",
       "Name: loss, dtype: float64"
      ]
     },
     "execution_count": 7,
     "metadata": {},
     "output_type": "execute_result"
    }
   ],
   "source": [
    "y.describe()"
   ]
  },
  {
   "cell_type": "code",
   "execution_count": 8,
   "metadata": {
    "collapsed": false
   },
   "outputs": [
    {
     "data": {
      "image/png": "[encoded data removed]",
      "text/plain": [
       "<matplotlib.figure.Figure at 0x7f3962bab080>"
      ]
     },
     "metadata": {},
     "output_type": "display_data"
    }
   ],
   "source": [
    "plt.figure(figsize = (14,6));\n",
    "y.hist(bins = 50);"
   ]
  },
  {
   "cell_type": "code",
   "execution_count": 9,
   "metadata": {
    "collapsed": false
   },
   "outputs": [
    {
     "data": {
      "image/png": "[encoded data removed]",
      "text/plain": [
       "<matplotlib.figure.Figure at 0x7f393be5a9e8>"
      ]
     },
     "metadata": {},
     "output_type": "display_data"
    }
   ],
   "source": [
    "plt.figure(figsize = (14,6));\n",
    "np.log(y).hist(bins = 50);"
   ]
  },
  {
   "cell_type": "markdown",
   "metadata": {},
   "source": [
    "## Features"
   ]
  },
  {
   "cell_type": "code",
   "execution_count": 10,
   "metadata": {
    "collapsed": false
   },
   "outputs": [
    {
     "name": "stdout",
     "output_type": "stream",
     "text": [
      "(313864, 130)\n",
      "Index(['cat1', 'cat2', 'cat3', 'cat4', 'cat5', 'cat6', 'cat7', 'cat8', 'cat9',\n",
      "       'cat10',\n",
      "       ...\n",
      "       'cont5', 'cont6', 'cont7', 'cont8', 'cont9', 'cont10', 'cont11',\n",
      "       'cont12', 'cont13', 'cont14'],\n",
      "      dtype='object', length=130)\n",
      "cat1       object\n",
      "cat2       object\n",
      "cat3       object\n",
      "cat4       object\n",
      "cat5       object\n",
      "cat6       object\n",
      "cat7       object\n",
      "cat8       object\n",
      "cat9       object\n",
      "cat10      object\n",
      "cat11      object\n",
      "cat12      object\n",
      "cat13      object\n",
      "cat14      object\n",
      "cat15      object\n",
      "cat16      object\n",
      "cat17      object\n",
      "cat18      object\n",
      "cat19      object\n",
      "cat20      object\n",
      "cat21      object\n",
      "cat22      object\n",
      "cat23      object\n",
      "cat24      object\n",
      "cat25      object\n",
      "cat26      object\n",
      "cat27      object\n",
      "cat28      object\n",
      "cat29      object\n",
      "cat30      object\n",
      "           ...   \n",
      "cat101     object\n",
      "cat102     object\n",
      "cat103     object\n",
      "cat104     object\n",
      "cat105     object\n",
      "cat106     object\n",
      "cat107     object\n",
      "cat108     object\n",
      "cat109     object\n",
      "cat110     object\n",
      "cat111     object\n",
      "cat112     object\n",
      "cat113     object\n",
      "cat114     object\n",
      "cat115     object\n",
      "cat116     object\n",
      "cont1     float64\n",
      "cont2     float64\n",
      "cont3     float64\n",
      "cont4     float64\n",
      "cont5     float64\n",
      "cont6     float64\n",
      "cont7     float64\n",
      "cont8     float64\n",
      "cont9     float64\n",
      "cont10    float64\n",
      "cont11    float64\n",
      "cont12    float64\n",
      "cont13    float64\n",
      "cont14    float64\n",
      "dtype: object\n"
     ]
    }
   ],
   "source": [
    "print(df.shape)\n",
    "print(df.columns)\n",
    "print(df.dtypes)"
   ]
  },
  {
   "cell_type": "markdown",
   "metadata": {},
   "source": [
    "### Categorical variables"
   ]
  },
  {
   "cell_type": "code",
   "execution_count": 11,
   "metadata": {
    "collapsed": false,
    "scrolled": false
   },
   "outputs": [
    {
     "name": "stdout",
     "output_type": "stream",
     "text": [
      "['cat1', 'cat2', 'cat3', 'cat4', 'cat5', 'cat6', 'cat7', 'cat8', 'cat9', 'cat10', 'cat11', 'cat12', 'cat13', 'cat14', 'cat15', 'cat16', 'cat17', 'cat18', 'cat19', 'cat20', 'cat21', 'cat22', 'cat23', 'cat24', 'cat25', 'cat26', 'cat27', 'cat28', 'cat29', 'cat30', 'cat31', 'cat32', 'cat33', 'cat34', 'cat35', 'cat36', 'cat37', 'cat38', 'cat39', 'cat40', 'cat41', 'cat42', 'cat43', 'cat44', 'cat45', 'cat46', 'cat47', 'cat48', 'cat49', 'cat50', 'cat51', 'cat52', 'cat53', 'cat54', 'cat55', 'cat56', 'cat57', 'cat58', 'cat59', 'cat60', 'cat61', 'cat62', 'cat63', 'cat64', 'cat65', 'cat66', 'cat67', 'cat68', 'cat69', 'cat70', 'cat71', 'cat72', 'cat73', 'cat74', 'cat75', 'cat76', 'cat77', 'cat78', 'cat79', 'cat80', 'cat81', 'cat82', 'cat83', 'cat84', 'cat85', 'cat86', 'cat87', 'cat88', 'cat89', 'cat90', 'cat91', 'cat92', 'cat93', 'cat94', 'cat95', 'cat96', 'cat97', 'cat98', 'cat99', 'cat100', 'cat101', 'cat102', 'cat103', 'cat104', 'cat105', 'cat106', 'cat107', 'cat108', 'cat109', 'cat110', 'cat111', 'cat112', 'cat113', 'cat114', 'cat115', 'cat116']\n"
     ]
    }
   ],
   "source": [
    "cat_variables = [i for i in df.columns if df[i].dtype == 'O']\n",
    "print(cat_variables)\n",
    "\n",
    "# for var in cat_variables:\n",
    "#     print('---------- %s --------' % var)\n",
    "#     print('%s unique values' % len(df[var].unique()))\n",
    "#     print('\\n')\n",
    "#     print(df[var].value_counts()[:5])\n",
    "#     print('\\n')"
   ]
  },
  {
   "cell_type": "markdown",
   "metadata": {},
   "source": [
    "### Numeric variables"
   ]
  },
  {
   "cell_type": "code",
   "execution_count": 12,
   "metadata": {
    "collapsed": false
   },
   "outputs": [
    {
     "name": "stdout",
     "output_type": "stream",
     "text": [
      "['cont1', 'cont2', 'cont3', 'cont4', 'cont5', 'cont6', 'cont7', 'cont8', 'cont9', 'cont10', 'cont11', 'cont12', 'cont13', 'cont14']\n"
     ]
    }
   ],
   "source": [
    "num_variables = [i for i in df.columns if df[i].dtype == 'float64']\n",
    "print(num_variables)"
   ]
  },
  {
   "cell_type": "code",
   "execution_count": 13,
   "metadata": {
    "collapsed": false
   },
   "outputs": [
    {
     "data": {
      "text/html": [
       "<div>\n",
       "<table border=\"1\" class=\"dataframe\">\n",
       "  <thead>\n",
       "    <tr style=\"text-align: right;\">\n",
       "      <th></th>\n",
       "      <th>cont1</th>\n",
       "      <th>cont2</th>\n",
       "      <th>cont3</th>\n",
       "      <th>cont4</th>\n",
       "      <th>cont5</th>\n",
       "      <th>cont6</th>\n",
       "      <th>cont7</th>\n",
       "      <th>cont8</th>\n",
       "      <th>cont9</th>\n",
       "      <th>cont10</th>\n",
       "      <th>cont11</th>\n",
       "      <th>cont12</th>\n",
       "      <th>cont13</th>\n",
       "      <th>cont14</th>\n",
       "    </tr>\n",
       "  </thead>\n",
       "  <tbody>\n",
       "    <tr>\n",
       "      <th>count</th>\n",
       "      <td>313864.0000</td>\n",
       "      <td>313864.0000</td>\n",
       "      <td>313864.0000</td>\n",
       "      <td>313864.0000</td>\n",
       "      <td>313864.0000</td>\n",
       "      <td>313864.0000</td>\n",
       "      <td>313864.0000</td>\n",
       "      <td>313864.0000</td>\n",
       "      <td>313864.0000</td>\n",
       "      <td>313864.0000</td>\n",
       "      <td>313864.0000</td>\n",
       "      <td>313864.0000</td>\n",
       "      <td>313864.0000</td>\n",
       "      <td>313864.0000</td>\n",
       "    </tr>\n",
       "    <tr>\n",
       "      <th>mean</th>\n",
       "      <td>0.4941</td>\n",
       "      <td>0.5071</td>\n",
       "      <td>0.4987</td>\n",
       "      <td>0.4920</td>\n",
       "      <td>0.4875</td>\n",
       "      <td>0.4914</td>\n",
       "      <td>0.4854</td>\n",
       "      <td>0.4868</td>\n",
       "      <td>0.4857</td>\n",
       "      <td>0.4984</td>\n",
       "      <td>0.4939</td>\n",
       "      <td>0.4935</td>\n",
       "      <td>0.4939</td>\n",
       "      <td>0.4957</td>\n",
       "    </tr>\n",
       "    <tr>\n",
       "      <th>std</th>\n",
       "      <td>0.1878</td>\n",
       "      <td>0.2071</td>\n",
       "      <td>0.2020</td>\n",
       "      <td>0.2111</td>\n",
       "      <td>0.2091</td>\n",
       "      <td>0.2054</td>\n",
       "      <td>0.1785</td>\n",
       "      <td>0.1994</td>\n",
       "      <td>0.1818</td>\n",
       "      <td>0.1859</td>\n",
       "      <td>0.2100</td>\n",
       "      <td>0.2097</td>\n",
       "      <td>0.2129</td>\n",
       "      <td>0.2225</td>\n",
       "    </tr>\n",
       "    <tr>\n",
       "      <th>min</th>\n",
       "      <td>0.0000</td>\n",
       "      <td>0.0011</td>\n",
       "      <td>0.0026</td>\n",
       "      <td>0.1769</td>\n",
       "      <td>0.2811</td>\n",
       "      <td>0.0127</td>\n",
       "      <td>0.0695</td>\n",
       "      <td>0.2369</td>\n",
       "      <td>0.0001</td>\n",
       "      <td>0.0000</td>\n",
       "      <td>0.0353</td>\n",
       "      <td>0.0362</td>\n",
       "      <td>0.0002</td>\n",
       "      <td>0.1786</td>\n",
       "    </tr>\n",
       "    <tr>\n",
       "      <th>25%</th>\n",
       "      <td>0.3474</td>\n",
       "      <td>0.3583</td>\n",
       "      <td>0.3370</td>\n",
       "      <td>0.3274</td>\n",
       "      <td>0.2811</td>\n",
       "      <td>0.3361</td>\n",
       "      <td>0.3513</td>\n",
       "      <td>0.3180</td>\n",
       "      <td>0.3590</td>\n",
       "      <td>0.3646</td>\n",
       "      <td>0.3110</td>\n",
       "      <td>0.3149</td>\n",
       "      <td>0.3158</td>\n",
       "      <td>0.2947</td>\n",
       "    </tr>\n",
       "    <tr>\n",
       "      <th>50%</th>\n",
       "      <td>0.4758</td>\n",
       "      <td>0.5558</td>\n",
       "      <td>0.5280</td>\n",
       "      <td>0.4529</td>\n",
       "      <td>0.4223</td>\n",
       "      <td>0.4409</td>\n",
       "      <td>0.4386</td>\n",
       "      <td>0.4411</td>\n",
       "      <td>0.4414</td>\n",
       "      <td>0.4612</td>\n",
       "      <td>0.4572</td>\n",
       "      <td>0.4623</td>\n",
       "      <td>0.3635</td>\n",
       "      <td>0.4070</td>\n",
       "    </tr>\n",
       "    <tr>\n",
       "      <th>75%</th>\n",
       "      <td>0.6253</td>\n",
       "      <td>0.6818</td>\n",
       "      <td>0.6342</td>\n",
       "      <td>0.6521</td>\n",
       "      <td>0.6433</td>\n",
       "      <td>0.6558</td>\n",
       "      <td>0.5912</td>\n",
       "      <td>0.6236</td>\n",
       "      <td>0.5689</td>\n",
       "      <td>0.6198</td>\n",
       "      <td>0.6789</td>\n",
       "      <td>0.6791</td>\n",
       "      <td>0.6900</td>\n",
       "      <td>0.7247</td>\n",
       "    </tr>\n",
       "    <tr>\n",
       "      <th>max</th>\n",
       "      <td>0.9850</td>\n",
       "      <td>0.8627</td>\n",
       "      <td>0.9443</td>\n",
       "      <td>0.9560</td>\n",
       "      <td>0.9837</td>\n",
       "      <td>0.9972</td>\n",
       "      <td>1.0000</td>\n",
       "      <td>0.9828</td>\n",
       "      <td>0.9954</td>\n",
       "      <td>0.9950</td>\n",
       "      <td>0.9987</td>\n",
       "      <td>0.9985</td>\n",
       "      <td>0.9885</td>\n",
       "      <td>0.8448</td>\n",
       "    </tr>\n",
       "  </tbody>\n",
       "</table>\n",
       "</div>"
      ],
      "text/plain": [
       "             cont1        cont2        cont3        cont4        cont5  \\\n",
       "count  313864.0000  313864.0000  313864.0000  313864.0000  313864.0000   \n",
       "mean        0.4941       0.5071       0.4987       0.4920       0.4875   \n",
       "std         0.1878       0.2071       0.2020       0.2111       0.2091   \n",
       "min         0.0000       0.0011       0.0026       0.1769       0.2811   \n",
       "25%         0.3474       0.3583       0.3370       0.3274       0.2811   \n",
       "50%         0.4758       0.5558       0.5280       0.4529       0.4223   \n",
       "75%         0.6253       0.6818       0.6342       0.6521       0.6433   \n",
       "max         0.9850       0.8627       0.9443       0.9560       0.9837   \n",
       "\n",
       "             cont6        cont7        cont8        cont9       cont10  \\\n",
       "count  313864.0000  313864.0000  313864.0000  313864.0000  313864.0000   \n",
       "mean        0.4914       0.4854       0.4868       0.4857       0.4984   \n",
       "std         0.2054       0.1785       0.1994       0.1818       0.1859   \n",
       "min         0.0127       0.0695       0.2369       0.0001       0.0000   \n",
       "25%         0.3361       0.3513       0.3180       0.3590       0.3646   \n",
       "50%         0.4409       0.4386       0.4411       0.4414       0.4612   \n",
       "75%         0.6558       0.5912       0.6236       0.5689       0.6198   \n",
       "max         0.9972       1.0000       0.9828       0.9954       0.9950   \n",
       "\n",
       "            cont11       cont12       cont13       cont14  \n",
       "count  313864.0000  313864.0000  313864.0000  313864.0000  \n",
       "mean        0.4939       0.4935       0.4939       0.4957  \n",
       "std         0.2100       0.2097       0.2129       0.2225  \n",
       "min         0.0353       0.0362       0.0002       0.1786  \n",
       "25%         0.3110       0.3149       0.3158       0.2947  \n",
       "50%         0.4572       0.4623       0.3635       0.4070  \n",
       "75%         0.6789       0.6791       0.6900       0.7247  \n",
       "max         0.9987       0.9985       0.9885       0.8448  "
      ]
     },
     "execution_count": 13,
     "metadata": {},
     "output_type": "execute_result"
    }
   ],
   "source": [
    "round(df[num_variables].describe(), 4)"
   ]
  },
  {
   "cell_type": "markdown",
   "metadata": {},
   "source": [
    "## Correlations"
   ]
  },
  {
   "cell_type": "code",
   "execution_count": 14,
   "metadata": {
    "collapsed": false
   },
   "outputs": [
    {
     "data": {
      "text/html": [
       "<div>\n",
       "<table border=\"1\" class=\"dataframe\">\n",
       "  <thead>\n",
       "    <tr style=\"text-align: right;\">\n",
       "      <th></th>\n",
       "      <th>cont1</th>\n",
       "      <th>cont2</th>\n",
       "      <th>cont3</th>\n",
       "      <th>cont4</th>\n",
       "      <th>cont5</th>\n",
       "      <th>cont6</th>\n",
       "      <th>cont7</th>\n",
       "      <th>cont8</th>\n",
       "      <th>cont9</th>\n",
       "      <th>cont10</th>\n",
       "      <th>cont11</th>\n",
       "      <th>cont12</th>\n",
       "      <th>cont13</th>\n",
       "      <th>cont14</th>\n",
       "    </tr>\n",
       "  </thead>\n",
       "  <tbody>\n",
       "    <tr>\n",
       "      <th>cont1</th>\n",
       "      <td>1.00</td>\n",
       "      <td>-0.08</td>\n",
       "      <td>-0.45</td>\n",
       "      <td>0.37</td>\n",
       "      <td>-0.02</td>\n",
       "      <td>0.76</td>\n",
       "      <td>0.37</td>\n",
       "      <td>0.36</td>\n",
       "      <td>0.93</td>\n",
       "      <td>0.81</td>\n",
       "      <td>0.60</td>\n",
       "      <td>0.61</td>\n",
       "      <td>0.53</td>\n",
       "      <td>0.06</td>\n",
       "    </tr>\n",
       "    <tr>\n",
       "      <th>cont2</th>\n",
       "      <td>-0.08</td>\n",
       "      <td>1.00</td>\n",
       "      <td>0.46</td>\n",
       "      <td>0.04</td>\n",
       "      <td>0.19</td>\n",
       "      <td>0.02</td>\n",
       "      <td>0.05</td>\n",
       "      <td>0.14</td>\n",
       "      <td>-0.03</td>\n",
       "      <td>0.06</td>\n",
       "      <td>0.12</td>\n",
       "      <td>0.11</td>\n",
       "      <td>0.02</td>\n",
       "      <td>-0.05</td>\n",
       "    </tr>\n",
       "    <tr>\n",
       "      <th>cont3</th>\n",
       "      <td>-0.45</td>\n",
       "      <td>0.46</td>\n",
       "      <td>1.00</td>\n",
       "      <td>-0.34</td>\n",
       "      <td>0.09</td>\n",
       "      <td>-0.35</td>\n",
       "      <td>0.10</td>\n",
       "      <td>-0.18</td>\n",
       "      <td>-0.42</td>\n",
       "      <td>-0.33</td>\n",
       "      <td>0.02</td>\n",
       "      <td>0.00</td>\n",
       "      <td>-0.42</td>\n",
       "      <td>-0.04</td>\n",
       "    </tr>\n",
       "    <tr>\n",
       "      <th>cont4</th>\n",
       "      <td>0.37</td>\n",
       "      <td>0.04</td>\n",
       "      <td>-0.34</td>\n",
       "      <td>1.00</td>\n",
       "      <td>0.16</td>\n",
       "      <td>0.22</td>\n",
       "      <td>-0.11</td>\n",
       "      <td>0.53</td>\n",
       "      <td>0.33</td>\n",
       "      <td>0.28</td>\n",
       "      <td>0.12</td>\n",
       "      <td>0.13</td>\n",
       "      <td>0.18</td>\n",
       "      <td>0.02</td>\n",
       "    </tr>\n",
       "    <tr>\n",
       "      <th>cont5</th>\n",
       "      <td>-0.02</td>\n",
       "      <td>0.19</td>\n",
       "      <td>0.09</td>\n",
       "      <td>0.16</td>\n",
       "      <td>1.00</td>\n",
       "      <td>-0.15</td>\n",
       "      <td>-0.25</td>\n",
       "      <td>0.01</td>\n",
       "      <td>-0.09</td>\n",
       "      <td>-0.07</td>\n",
       "      <td>-0.15</td>\n",
       "      <td>-0.15</td>\n",
       "      <td>-0.08</td>\n",
       "      <td>-0.02</td>\n",
       "    </tr>\n",
       "    <tr>\n",
       "      <th>cont6</th>\n",
       "      <td>0.76</td>\n",
       "      <td>0.02</td>\n",
       "      <td>-0.35</td>\n",
       "      <td>0.22</td>\n",
       "      <td>-0.15</td>\n",
       "      <td>1.00</td>\n",
       "      <td>0.66</td>\n",
       "      <td>0.44</td>\n",
       "      <td>0.80</td>\n",
       "      <td>0.88</td>\n",
       "      <td>0.77</td>\n",
       "      <td>0.79</td>\n",
       "      <td>0.81</td>\n",
       "      <td>0.04</td>\n",
       "    </tr>\n",
       "    <tr>\n",
       "      <th>cont7</th>\n",
       "      <td>0.37</td>\n",
       "      <td>0.05</td>\n",
       "      <td>0.10</td>\n",
       "      <td>-0.11</td>\n",
       "      <td>-0.25</td>\n",
       "      <td>0.66</td>\n",
       "      <td>1.00</td>\n",
       "      <td>0.14</td>\n",
       "      <td>0.38</td>\n",
       "      <td>0.49</td>\n",
       "      <td>0.75</td>\n",
       "      <td>0.74</td>\n",
       "      <td>0.29</td>\n",
       "      <td>0.02</td>\n",
       "    </tr>\n",
       "    <tr>\n",
       "      <th>cont8</th>\n",
       "      <td>0.36</td>\n",
       "      <td>0.14</td>\n",
       "      <td>-0.18</td>\n",
       "      <td>0.53</td>\n",
       "      <td>0.01</td>\n",
       "      <td>0.44</td>\n",
       "      <td>0.14</td>\n",
       "      <td>1.00</td>\n",
       "      <td>0.45</td>\n",
       "      <td>0.34</td>\n",
       "      <td>0.30</td>\n",
       "      <td>0.32</td>\n",
       "      <td>0.48</td>\n",
       "      <td>0.04</td>\n",
       "    </tr>\n",
       "    <tr>\n",
       "      <th>cont9</th>\n",
       "      <td>0.93</td>\n",
       "      <td>-0.03</td>\n",
       "      <td>-0.42</td>\n",
       "      <td>0.33</td>\n",
       "      <td>-0.09</td>\n",
       "      <td>0.80</td>\n",
       "      <td>0.38</td>\n",
       "      <td>0.45</td>\n",
       "      <td>1.00</td>\n",
       "      <td>0.79</td>\n",
       "      <td>0.61</td>\n",
       "      <td>0.63</td>\n",
       "      <td>0.64</td>\n",
       "      <td>0.07</td>\n",
       "    </tr>\n",
       "    <tr>\n",
       "      <th>cont10</th>\n",
       "      <td>0.81</td>\n",
       "      <td>0.06</td>\n",
       "      <td>-0.33</td>\n",
       "      <td>0.28</td>\n",
       "      <td>-0.07</td>\n",
       "      <td>0.88</td>\n",
       "      <td>0.49</td>\n",
       "      <td>0.34</td>\n",
       "      <td>0.79</td>\n",
       "      <td>1.00</td>\n",
       "      <td>0.70</td>\n",
       "      <td>0.72</td>\n",
       "      <td>0.71</td>\n",
       "      <td>0.04</td>\n",
       "    </tr>\n",
       "    <tr>\n",
       "      <th>cont11</th>\n",
       "      <td>0.60</td>\n",
       "      <td>0.12</td>\n",
       "      <td>0.02</td>\n",
       "      <td>0.12</td>\n",
       "      <td>-0.15</td>\n",
       "      <td>0.77</td>\n",
       "      <td>0.75</td>\n",
       "      <td>0.30</td>\n",
       "      <td>0.61</td>\n",
       "      <td>0.70</td>\n",
       "      <td>1.00</td>\n",
       "      <td>0.99</td>\n",
       "      <td>0.47</td>\n",
       "      <td>0.05</td>\n",
       "    </tr>\n",
       "    <tr>\n",
       "      <th>cont12</th>\n",
       "      <td>0.61</td>\n",
       "      <td>0.11</td>\n",
       "      <td>0.00</td>\n",
       "      <td>0.13</td>\n",
       "      <td>-0.15</td>\n",
       "      <td>0.79</td>\n",
       "      <td>0.74</td>\n",
       "      <td>0.32</td>\n",
       "      <td>0.63</td>\n",
       "      <td>0.72</td>\n",
       "      <td>0.99</td>\n",
       "      <td>1.00</td>\n",
       "      <td>0.48</td>\n",
       "      <td>0.05</td>\n",
       "    </tr>\n",
       "    <tr>\n",
       "      <th>cont13</th>\n",
       "      <td>0.53</td>\n",
       "      <td>0.02</td>\n",
       "      <td>-0.42</td>\n",
       "      <td>0.18</td>\n",
       "      <td>-0.08</td>\n",
       "      <td>0.81</td>\n",
       "      <td>0.29</td>\n",
       "      <td>0.48</td>\n",
       "      <td>0.64</td>\n",
       "      <td>0.71</td>\n",
       "      <td>0.47</td>\n",
       "      <td>0.48</td>\n",
       "      <td>1.00</td>\n",
       "      <td>0.05</td>\n",
       "    </tr>\n",
       "    <tr>\n",
       "      <th>cont14</th>\n",
       "      <td>0.06</td>\n",
       "      <td>-0.05</td>\n",
       "      <td>-0.04</td>\n",
       "      <td>0.02</td>\n",
       "      <td>-0.02</td>\n",
       "      <td>0.04</td>\n",
       "      <td>0.02</td>\n",
       "      <td>0.04</td>\n",
       "      <td>0.07</td>\n",
       "      <td>0.04</td>\n",
       "      <td>0.05</td>\n",
       "      <td>0.05</td>\n",
       "      <td>0.05</td>\n",
       "      <td>1.00</td>\n",
       "    </tr>\n",
       "  </tbody>\n",
       "</table>\n",
       "</div>"
      ],
      "text/plain": [
       "        cont1  cont2  cont3  cont4  cont5  cont6  cont7  cont8  cont9  cont10  \\\n",
       "cont1    1.00  -0.08  -0.45   0.37  -0.02   0.76   0.37   0.36   0.93    0.81   \n",
       "cont2   -0.08   1.00   0.46   0.04   0.19   0.02   0.05   0.14  -0.03    0.06   \n",
       "cont3   -0.45   0.46   1.00  -0.34   0.09  -0.35   0.10  -0.18  -0.42   -0.33   \n",
       "cont4    0.37   0.04  -0.34   1.00   0.16   0.22  -0.11   0.53   0.33    0.28   \n",
       "cont5   -0.02   0.19   0.09   0.16   1.00  -0.15  -0.25   0.01  -0.09   -0.07   \n",
       "cont6    0.76   0.02  -0.35   0.22  -0.15   1.00   0.66   0.44   0.80    0.88   \n",
       "cont7    0.37   0.05   0.10  -0.11  -0.25   0.66   1.00   0.14   0.38    0.49   \n",
       "cont8    0.36   0.14  -0.18   0.53   0.01   0.44   0.14   1.00   0.45    0.34   \n",
       "cont9    0.93  -0.03  -0.42   0.33  -0.09   0.80   0.38   0.45   1.00    0.79   \n",
       "cont10   0.81   0.06  -0.33   0.28  -0.07   0.88   0.49   0.34   0.79    1.00   \n",
       "cont11   0.60   0.12   0.02   0.12  -0.15   0.77   0.75   0.30   0.61    0.70   \n",
       "cont12   0.61   0.11   0.00   0.13  -0.15   0.79   0.74   0.32   0.63    0.72   \n",
       "cont13   0.53   0.02  -0.42   0.18  -0.08   0.81   0.29   0.48   0.64    0.71   \n",
       "cont14   0.06  -0.05  -0.04   0.02  -0.02   0.04   0.02   0.04   0.07    0.04   \n",
       "\n",
       "        cont11  cont12  cont13  cont14  \n",
       "cont1     0.60    0.61    0.53    0.06  \n",
       "cont2     0.12    0.11    0.02   -0.05  \n",
       "cont3     0.02    0.00   -0.42   -0.04  \n",
       "cont4     0.12    0.13    0.18    0.02  \n",
       "cont5    -0.15   -0.15   -0.08   -0.02  \n",
       "cont6     0.77    0.79    0.81    0.04  \n",
       "cont7     0.75    0.74    0.29    0.02  \n",
       "cont8     0.30    0.32    0.48    0.04  \n",
       "cont9     0.61    0.63    0.64    0.07  \n",
       "cont10    0.70    0.72    0.71    0.04  \n",
       "cont11    1.00    0.99    0.47    0.05  \n",
       "cont12    0.99    1.00    0.48    0.05  \n",
       "cont13    0.47    0.48    1.00    0.05  \n",
       "cont14    0.05    0.05    0.05    1.00  "
      ]
     },
     "execution_count": 14,
     "metadata": {},
     "output_type": "execute_result"
    }
   ],
   "source": [
    "corrs = round(df[num_variables].corr(), 2)\n",
    "corrs"
   ]
  },
  {
   "cell_type": "code",
   "execution_count": 15,
   "metadata": {
    "collapsed": false
   },
   "outputs": [
    {
     "name": "stdout",
     "output_type": "stream",
     "text": [
      "-------- cont1\n",
      "cont6     0.76\n",
      "cont9     0.93\n",
      "cont10    0.81\n",
      "cont11    0.60\n",
      "cont12    0.61\n",
      "cont13    0.53\n",
      "Name: cont1, dtype: float64\n",
      "\n",
      "\n",
      "-------- cont4\n",
      "cont8    0.53\n",
      "Name: cont4, dtype: float64\n",
      "\n",
      "\n",
      "-------- cont6\n",
      "cont7    0.66\n",
      "cont9    0.80\n",
      "Name: cont6, dtype: float64\n",
      "\n",
      "\n",
      "-------- cont10\n",
      "cont6     0.88\n",
      "cont9     0.79\n",
      "cont11    0.70\n",
      "cont12    0.72\n",
      "cont13    0.71\n",
      "Name: cont10, dtype: float64\n",
      "\n",
      "\n",
      "-------- cont11\n",
      "cont6     0.77\n",
      "cont7     0.75\n",
      "cont9     0.61\n",
      "cont12    0.99\n",
      "Name: cont11, dtype: float64\n",
      "\n",
      "\n",
      "-------- cont12\n",
      "cont6    0.79\n",
      "cont7    0.74\n",
      "cont9    0.63\n",
      "Name: cont12, dtype: float64\n",
      "\n",
      "\n",
      "-------- cont13\n",
      "cont6    0.81\n",
      "cont9    0.64\n",
      "Name: cont13, dtype: float64\n",
      "\n",
      "\n"
     ]
    }
   ],
   "source": [
    "pairs = []\n",
    "\n",
    "for var in num_variables:\n",
    "    current = corrs.loc[(corrs[var] > 0.5) & (corrs[var] != 1.0) & (corrs[var].index > var), var]\n",
    "    if len(current) == 0: \n",
    "        continue\n",
    "    print('-' * 8, var)\n",
    "    print(current)\n",
    "    print('\\n')\n",
    "    for another_var in current.index:\n",
    "        pairs.append((var, another_var))"
   ]
  },
  {
   "cell_type": "code",
   "execution_count": 17,
   "metadata": {
    "collapsed": false,
    "scrolled": false
   },
   "outputs": [
    {
     "name": "stdout",
     "output_type": "stream",
     "text": [
      "1. Correlation between cont1 and cont6\n",
      "0.758326460886\n",
      "2. Correlation between cont1 and cont9\n",
      "0.930674516267\n",
      "3. Correlation between cont1 and cont10\n",
      "0.808348307861\n",
      "4. Correlation between cont1 and cont11\n",
      "0.596405610685\n",
      "5. Correlation between cont1 and cont12\n",
      "0.614665617378\n",
      "6. Correlation between cont1 and cont13\n",
      "0.533810576157\n",
      "7. Correlation between cont4 and cont8\n",
      "0.531245712385\n",
      "8. Correlation between cont6 and cont7\n",
      "0.658667075636\n",
      "9. Correlation between cont6 and cont9\n",
      "0.797387028427\n",
      "10. Correlation between cont10 and cont6\n",
      "0.883909963158\n",
      "11. Correlation between cont10 and cont9\n",
      "0.786035467257\n",
      "12. Correlation between cont10 and cont11\n",
      "0.703952766291\n",
      "13. Correlation between cont10 and cont12\n",
      "0.715013883522\n",
      "14. Correlation between cont10 and cont13\n",
      "0.707289715058\n",
      "15. Correlation between cont11 and cont6\n",
      "0.774715129609\n",
      "16. Correlation between cont11 and cont7\n",
      "0.74760459949\n",
      "17. Correlation between cont11 and cont9\n",
      "0.608502702751\n",
      "18. Correlation between cont11 and cont12\n",
      "0.994389812808\n",
      "19. Correlation between cont12 and cont6\n",
      "0.786201783888\n",
      "20. Correlation between cont12 and cont7\n",
      "0.743181828077\n",
      "21. Correlation between cont12 and cont9\n",
      "0.627238346648\n",
      "22. Correlation between cont13 and cont6\n",
      "0.813993677588\n",
      "23. Correlation between cont13 and cont9\n",
      "0.640639399802\n"
     ]
    }
   ],
   "source": [
    "def draw(pair, df = df):\n",
    "    title = \"Correlation between %s and %s\" % (pair)\n",
    "    x, y = pair\n",
    "    plt.figure()\n",
    "    plt.scatter(df[x], df[y], s = 10, alpha = 0.3)\n",
    "    plt.title(title)\n",
    "    plt.ylabel(y)\n",
    "    plt.xlabel(x)\n",
    "    plt.show()\n",
    "\n",
    "i = 1\n",
    "for pair in pairs:\n",
    "    print(\"%s. Correlation between %s and %s\" % (i, pair[0], pair[1]))\n",
    "    # draw(pair)\n",
    "    print(df[pair[0]].corr(df[pair[1]]))\n",
    "    i += 1"
   ]
  },
  {
   "cell_type": "markdown",
   "metadata": {},
   "source": [
    "## Correlations with `y`"
   ]
  },
  {
   "cell_type": "code",
   "execution_count": 19,
   "metadata": {
    "collapsed": false
   },
   "outputs": [
    {
     "data": {
      "text/plain": [
       "cont1    -0.010237\n",
       "cont2     0.141528\n",
       "cont3     0.111053\n",
       "cont4    -0.035831\n",
       "cont5    -0.011355\n",
       "cont6     0.040967\n",
       "cont7     0.119799\n",
       "cont8     0.030508\n",
       "cont9     0.014456\n",
       "cont10    0.020236\n",
       "cont11    0.099806\n",
       "cont12    0.098724\n",
       "cont13   -0.004022\n",
       "cont14    0.019298\n",
       "dtype: float64"
      ]
     },
     "execution_count": 19,
     "metadata": {},
     "output_type": "execute_result"
    }
   ],
   "source": [
    "X[num_variables].corrwith(y)"
   ]
  },
  {
   "cell_type": "code",
   "execution_count": null,
   "metadata": {
    "collapsed": true
   },
   "outputs": [],
   "source": []
  }
 ],
 "metadata": {
  "kernelspec": {
   "display_name": "Python 3",
   "language": "python",
   "name": "python3"
  },
  "language_info": {
   "codemirror_mode": {
    "name": "ipython",
    "version": 3
   },
   "file_extension": ".py",
   "mimetype": "text/x-python",
   "name": "python",
   "nbconvert_exporter": "python",
   "pygments_lexer": "ipython3",
   "version": "3.5.1"
  }
 },
 "nbformat": 4,
 "nbformat_minor": 1
}
