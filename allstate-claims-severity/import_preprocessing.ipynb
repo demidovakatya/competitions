{
 "cells": [
  {
   "cell_type": "markdown",
   "metadata": {},
   "source": [
    "# Import"
   ]
  },
  {
   "cell_type": "code",
   "execution_count": null,
   "metadata": {
    "collapsed": true
   },
   "outputs": [],
   "source": [
    "import pandas as pd\n",
    "\n",
    "data_folder = 'data'"
   ]
  },
  {
   "cell_type": "markdown",
   "metadata": {},
   "source": [
    "## `train`"
   ]
  },
  {
   "cell_type": "code",
   "execution_count": null,
   "metadata": {
    "collapsed": true
   },
   "outputs": [],
   "source": [
    "train = pd.read_csv('/'.join([data_folder, \"train.csv\"]),\n",
    "                    index_col = 'id')\n",
    "\n",
    "X = train.drop('loss', axis = 1)\n",
    "y = train.loss\n",
    "\n",
    "X.head(3)"
   ]
  },
  {
   "cell_type": "markdown",
   "metadata": {},
   "source": [
    "## `test`"
   ]
  },
  {
   "cell_type": "code",
   "execution_count": null,
   "metadata": {
    "collapsed": true
   },
   "outputs": [],
   "source": [
    "X_test = pd.read_csv('/'.join([data_folder, \"test.csv\"]), \n",
    "                     index_col = 'id')\n",
    "\n",
    "ids = X_test.index\n",
    "\n",
    "X_test.head(3)"
   ]
  },
  {
   "cell_type": "code",
   "execution_count": null,
   "metadata": {
    "collapsed": true
   },
   "outputs": [],
   "source": [
    "## Concatenate `test` + `train`\n",
    "df = pd.concat([X, X_test])"
   ]
  },
  {
   "cell_type": "markdown",
   "metadata": {},
   "source": [
    "------------\n",
    "\n",
    "# Preprocessing"
   ]
  },
  {
   "cell_type": "code",
   "execution_count": null,
   "metadata": {
    "collapsed": true
   },
   "outputs": [],
   "source": [
    "num_variables = [i for i in df.columns if df[i].dtype != 'O']\n",
    "# print('\\t'.join(num_variables))\n",
    "\n",
    "cat_variables = [i for i in df.columns if df[i].dtype == 'O']\n",
    "# print('\\t'.join(cat_variables))"
   ]
  },
  {
   "cell_type": "markdown",
   "metadata": {},
   "source": [
    "## Encode categorical labels with `LabelEncoder`"
   ]
  },
  {
   "cell_type": "code",
   "execution_count": 10,
   "metadata": {
    "collapsed": false
   },
   "outputs": [
    {
     "name": "stdout",
     "output_type": "stream",
     "text": [
      "cat1\tcat2\tcat3\tcat4\tcat5\tcat6\tcat7\tcat8\tcat9\tcat10\tcat11\tcat12\tcat13\tcat14\tcat15\tcat16\tcat17\tcat18\tcat19\tcat20\tcat21\tcat22\tcat23\tcat24\tcat25\tcat26\tcat27\tcat28\tcat29\tcat30\tcat31\tcat32\tcat33\tcat34\tcat35\tcat36\tcat37\tcat38\tcat39\tcat40\tcat41\tcat42\tcat43\tcat44\tcat45\tcat46\tcat47\tcat48\tcat49\tcat50\tcat51\tcat52\tcat53\tcat54\tcat55\tcat56\tcat57\tcat58\tcat59\tcat60\tcat61\tcat62\tcat63\tcat64\tcat65\tcat66\tcat67\tcat68\tcat69\tcat70\tcat71\tcat72\tcat73\tcat74\tcat75\tcat76\tcat77\tcat78\tcat79\tcat80\tcat81\tcat82\tcat83\tcat84\tcat85\tcat86\tcat87\tcat88\tcat89\tcat90\tcat91\tcat92\tcat93\tcat94\tcat95\tcat96\tcat97\tcat98\tcat99\tcat100\tcat101\tcat102\tcat103\tcat104\tcat105\tcat106\tcat107\tcat108\tcat109\tcat110\tcat111\tcat112\tcat113\tcat114\tcat115\tcat116\tcont1\tcont2\tcont3\tcont4\tcont5\tcont6\tcont7\tcont8\tcont9\tcont10\tcont11\tcont12\tcont13\tcont14\n"
     ]
    }
   ],
   "source": [
    "from sklearn.preprocessing import LabelEncoder\n",
    "encods = [LabelEncoder() for col in cat_variables]\n",
    "for i, col in enumerate(cat_variables):\n",
    "    df[col] = encods[i].fit_transform(df[col].astype(str))"
   ]
  },
  {
   "cell_type": "code",
   "execution_count": 11,
   "metadata": {
    "collapsed": false
   },
   "outputs": [],
   "source": [
    "df.fillna(0, inplace=True)"
   ]
  },
  {
   "cell_type": "code",
   "execution_count": 12,
   "metadata": {
    "collapsed": false
   },
   "outputs": [],
   "source": [
    "X_encoded = df.loc[X.index, ]\n",
    "X_test_encoded = df.loc[X_test.index, ]"
   ]
  },
  {
   "cell_type": "code",
   "execution_count": 13,
   "metadata": {
    "collapsed": false
   },
   "outputs": [
    {
     "name": "stdout",
     "output_type": "stream",
     "text": [
      "(188318, 130) (188318, 130)\n",
      "(125546, 130) (125546, 130)\n",
      "(313864, 130)\n"
     ]
    }
   ],
   "source": [
    "# print(X.shape, X_encoded.shape)\n",
    "# print(X_test.shape, X_test_encoded.shape)\n",
    "# print(df.shape)\n",
    "\n",
    "# # (188318, 130) (188318, 130)\n",
    "# # (125546, 130) (125546, 130)\n",
    "# # (313864, 130)"
   ]
  },
  {
   "cell_type": "markdown",
   "metadata": {},
   "source": [
    "## Save"
   ]
  },
  {
   "cell_type": "code",
   "execution_count": 14,
   "metadata": {
    "collapsed": true
   },
   "outputs": [],
   "source": [
    "# X_encoded.to_csv('/'.join([data_folder, \"X_encoded.csv\"]))\n",
    "# X_test_encoded.to_csv('/'.join([data_folder, \"X_test_encoded.csv\"]))"
   ]
  },
  {
   "cell_type": "code",
   "execution_count": 18,
   "metadata": {
    "collapsed": true
   },
   "outputs": [],
   "source": [
    "X = X_encoded.copy()\n",
    "X_test = X_test_encoded.copy()\n",
    "\n",
    "del X_encoded, X_test_encoded"
   ]
  },
  {
   "cell_type": "code",
   "execution_count": null,
   "metadata": {
    "collapsed": true
   },
   "outputs": [],
   "source": []
  }
 ],
 "metadata": {
  "kernelspec": {
   "display_name": "Python 3",
   "language": "python",
   "name": "python3"
  },
  "language_info": {
   "codemirror_mode": {
    "name": "ipython",
    "version": 3
   },
   "file_extension": ".py",
   "mimetype": "text/x-python",
   "name": "python",
   "nbconvert_exporter": "python",
   "pygments_lexer": "ipython3",
   "version": "3.4.3"
  }
 },
 "nbformat": 4,
 "nbformat_minor": 0
}
