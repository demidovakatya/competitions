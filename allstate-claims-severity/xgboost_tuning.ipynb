{
 "cells": [
  {
   "cell_type": "code",
   "execution_count": 2,
   "metadata": {
    "collapsed": false
   },
   "outputs": [
    {
     "name": "stderr",
     "output_type": "stream",
     "text": [
      "/usr/local/lib/python2.7/dist-packages/sklearn/cross_validation.py:44: DeprecationWarning: This module was deprecated in version 0.18 in favor of the model_selection module into which all the refactored classes and functions are moved. Also note that the interface of the new CV iterators are different from that of this module. This module will be removed in 0.20.\n",
      "  \"This module will be removed in 0.20.\", DeprecationWarning)\n"
     ]
    }
   ],
   "source": [
    "import pandas as pd\n",
    "import numpy as np\n",
    "\n",
    "from datetime import datetime\n",
    "import xgboost as xgb"
   ]
  },
  {
   "cell_type": "code",
   "execution_count": 6,
   "metadata": {
    "collapsed": true
   },
   "outputs": [],
   "source": [
    "from sklearn.grid_search import GridSearchCV"
   ]
  },
  {
   "cell_type": "code",
   "execution_count": 3,
   "metadata": {
    "collapsed": true
   },
   "outputs": [],
   "source": [
    "%run import_preprocessing.ipynb"
   ]
  },
  {
   "cell_type": "code",
   "execution_count": 28,
   "metadata": {
    "collapsed": false
   },
   "outputs": [],
   "source": [
    "def submission_to_csv(y_pred, filename, ids = ids):\n",
    "    pd.DataFrame(y_pred, ids).to_csv(filename, sep=',', \n",
    "                                     index_label = 'id', \n",
    "                                     header = ['loss'])\n",
    "\n",
    "def make_submission_gridsearch(gsearch, y_pred):\n",
    "    y_pred = ['{0:.1f}'.format(p) for p in y_pred]\n",
    "    \n",
    "    n_trees = gsearch.get_params()['estimator__n_estimators']\n",
    "    params = '_'.join([('%s_%s' % (k, v)) for k, v in gsearch.best_params_.items()])\n",
    "    datename = datetime.now().strftime(format = '%d.%m_%H:%M')\n",
    "    folder = 'submissions'\n",
    "    filename = '%s/%s_mae%s_%strees_%s.csv' % (folder, datename, round(abs(gsearch.best_score_), 2), n_trees, params)\n",
    "    # filename = folder + '/' + 'xgb_tuning_' + params + '_' + datename + '.csv'\n",
    "    print('saving to %s...' % filename)\n",
    "\n",
    "    submission_to_csv(y_pred, filename)"
   ]
  },
  {
   "cell_type": "markdown",
   "metadata": {},
   "source": [
    "# `xgboost` tuning"
   ]
  },
  {
   "cell_type": "code",
   "execution_count": 5,
   "metadata": {
    "collapsed": false
   },
   "outputs": [],
   "source": [
    "dtrain = xgb.DMatrix(X, y, missing = 0.0)\n",
    "dtest = xgb.DMatrix(X_test)"
   ]
  },
  {
   "cell_type": "code",
   "execution_count": 9,
   "metadata": {
    "collapsed": true
   },
   "outputs": [],
   "source": [
    "def tune_xgb(param_grid, n_trees = 100):\n",
    "    gsearch = GridSearchCV(estimator = xgb.XGBRegressor(seed = 27, n_estimators = n_trees, silent = False), \n",
    "                             param_grid = param_grid, \n",
    "                             iid = False, cv = 3,\n",
    "                             verbose = 3, scoring = 'neg_mean_absolute_error')\n",
    "#                            )\n",
    "\n",
    "    gsearch.fit(X, y)\n",
    "\n",
    "    print(gsearch.grid_scores_)\n",
    "    print(gsearch.best_params_)\n",
    "    print(gsearch.best_score_)\n",
    "\n",
    "    pred = gsearch.best_estimator_.predict(X_test)\n",
    "    return gsearch, pred"
   ]
  },
  {
   "cell_type": "markdown",
   "metadata": {},
   "source": [
    "## `min_child_weight`\n",
    "\n",
    "```[mean: -1229.63925, std: 1.27339, params: {'min_child_weight': 1}, mean: -1229.11425, std: 1.62145, params: {'min_child_weight': 3}, mean: -1229.98570, std: 1.59661, params: {'min_child_weight': 5}]\n",
    "{'min_child_weight': 3}\n",
    "-1229.11424698\n",
    "CPU times: user 15min 35s, sys: 7.27 s, total: 15min 42s\n",
    "Wall time: 4min 48s```"
   ]
  },
  {
   "cell_type": "code",
   "execution_count": 29,
   "metadata": {
    "collapsed": false
   },
   "outputs": [
    {
     "name": "stdout",
     "output_type": "stream",
     "text": [
      "Fitting 3 folds for each of 3 candidates, totalling 9 fits\n",
      "[CV] min_child_weight=2 ..............................................\n",
      "[CV] ................. min_child_weight=2, score=-1207.062086 - 1.5min\n",
      "[CV] min_child_weight=2 ..............................................\n"
     ]
    },
    {
     "name": "stderr",
     "output_type": "stream",
     "text": [
      "[Parallel(n_jobs=1)]: Done   1 out of   1 | elapsed:  1.5min remaining:    0.0s\n"
     ]
    },
    {
     "name": "stdout",
     "output_type": "stream",
     "text": [
      "[CV] ................. min_child_weight=2, score=-1203.322119 - 1.9min\n",
      "[CV] min_child_weight=2 ..............................................\n"
     ]
    },
    {
     "name": "stderr",
     "output_type": "stream",
     "text": [
      "[Parallel(n_jobs=1)]: Done   2 out of   2 | elapsed:  3.3min remaining:    0.0s\n"
     ]
    },
    {
     "name": "stdout",
     "output_type": "stream",
     "text": [
      "[CV] ................. min_child_weight=2, score=-1205.412069 - 1.5min\n",
      "[CV] min_child_weight=3 ..............................................\n",
      "[CV] ................. min_child_weight=3, score=-1207.645791 - 1.4min\n",
      "[CV] min_child_weight=3 ..............................................\n",
      "[CV] ................. min_child_weight=3, score=-1203.142366 - 1.7min\n",
      "[CV] min_child_weight=3 ..............................................\n",
      "[CV] ................. min_child_weight=3, score=-1204.780227 - 1.7min\n",
      "[CV] min_child_weight=4 ..............................................\n",
      "[CV] ................. min_child_weight=4, score=-1206.182961 - 1.8min\n",
      "[CV] min_child_weight=4 ..............................................\n",
      "[CV] ................. min_child_weight=4, score=-1202.282733 - 1.6min\n",
      "[CV] min_child_weight=4 ..............................................\n",
      "[CV] ................. min_child_weight=4, score=-1204.917152 - 2.0min\n"
     ]
    },
    {
     "name": "stderr",
     "output_type": "stream",
     "text": [
      "[Parallel(n_jobs=1)]: Done   9 out of   9 | elapsed: 15.0min finished\n"
     ]
    },
    {
     "name": "stdout",
     "output_type": "stream",
     "text": [
      "[mean: -1205.26542, std: 1.53035, params: {'min_child_weight': 2}, mean: -1205.18946, std: 1.86115, params: {'min_child_weight': 3}, mean: -1204.46095, std: 1.62461, params: {'min_child_weight': 4}]\n",
      "{'min_child_weight': 4}\n",
      "-1204.46094856\n",
      "saving to submissions/11.10_18:27_mae1204.46_500trees_min_child_weight_4.csv...\n",
      "CPU times: user 55min 6s, sys: 10.8 s, total: 55min 17s\n",
      "Wall time: 17min 53s\n"
     ]
    }
   ],
   "source": [
    "%%time\n",
    "param_test = { 'min_child_weight': [2, 3, 4] }\n",
    "\n",
    "gsearch, pred = tune_xgb(param_test, 500)\n",
    "\n",
    "make_submission_gridsearch(gsearch, pred)"
   ]
  },
  {
   "cell_type": "markdown",
   "metadata": {},
   "source": [
    "## `max_depth`\n",
    "\n",
    "`[default=6]`\n",
    "* The maximum depth of a tree, same as GBM.\n",
    "* Used to control over-fitting as higher depth will allow model to learn relations very specific to a particular sample.\n",
    "* Should be tuned using CV.\n",
    "* Typical values: 3-10"
   ]
  },
  {
   "cell_type": "code",
   "execution_count": 10,
   "metadata": {
    "collapsed": true
   },
   "outputs": [],
   "source": [
    "%%time\n",
    "param_test = { 'max_depth': [8, 9, 10] }\n",
    "\n",
    "# gsearch, pred = tune_xgb(param_test)\n",
    "# make_submission_gridsearch(gsearch, pred)"
   ]
  },
  {
   "cell_type": "markdown",
   "metadata": {},
   "source": [
    "## `gamma` \n",
    "\n",
    "`[default=0]`\n",
    "* A node is split only when the resulting split gives a positive reduction in the loss function. Gamma specifies the minimum loss reduction required to make a split.\n",
    "* Makes the algorithm conservative. The values can vary depending on the loss function and should be tuned."
   ]
  },
  {
   "cell_type": "code",
   "execution_count": 14,
   "metadata": {
    "collapsed": false
   },
   "outputs": [
    {
     "name": "stdout",
     "output_type": "stream",
     "text": [
      "CPU times: user 9 µs, sys: 3 µs, total: 12 µs\n",
      "Wall time: 32.9 µs\n"
     ]
    }
   ],
   "source": [
    "%%time\n",
    "param_test = { 'gamma': [0, 0.1, 0.3] }\n",
    "\n",
    "# gsearch, pred = tune_xgb(param_test)\n",
    "# make_submission_gridsearch(gsearch, pred)"
   ]
  },
  {
   "cell_type": "markdown",
   "metadata": {},
   "source": [
    "## `subsample` \n",
    "\n",
    "`[default=1]`\n",
    "* Same as the subsample of GBM. Denotes the fraction of observations to be randomly samples for each tree.\n",
    "* Lower values make the algorithm more conservative and prevents overfitting but too small values might lead to under-fitting.\n",
    "* Typical values: 0.5-1"
   ]
  },
  {
   "cell_type": "code",
   "execution_count": 15,
   "metadata": {
    "collapsed": false
   },
   "outputs": [
    {
     "name": "stdout",
     "output_type": "stream",
     "text": [
      "CPU times: user 6 µs, sys: 1e+03 ns, total: 7 µs\n",
      "Wall time: 12.2 µs\n"
     ]
    }
   ],
   "source": [
    "%%time\n",
    "param_test = { 'subsample': [0.5, 0.75, 1.0] }\n",
    "\n",
    "# gsearch, pred = tune_xgb(param_test)\n",
    "# make_submission_gridsearch(gsearch, pred)"
   ]
  },
  {
   "cell_type": "markdown",
   "metadata": {},
   "source": [
    "## `subsample * max_depth` "
   ]
  },
  {
   "cell_type": "code",
   "execution_count": 16,
   "metadata": {
    "collapsed": false,
    "scrolled": true
   },
   "outputs": [
    {
     "name": "stdout",
     "output_type": "stream",
     "text": [
      "CPU times: user 8 µs, sys: 2 µs, total: 10 µs\n",
      "Wall time: 15 µs\n"
     ]
    }
   ],
   "source": [
    "%%time\n",
    "param_test = { 'max_depth': [8, 9, 10], 'subsample': [0.5, 0.75, 1.0] }\n",
    "\n",
    "# gsearch, pred = tune_xgb(param_test)\n",
    "# make_submission_gridsearch(gsearch, pred)"
   ]
  },
  {
   "cell_type": "markdown",
   "metadata": {},
   "source": [
    "## `eta`  / `learning_rate`\n",
    "\n",
    "`[default=0.3]`\n",
    "\n",
    "* Analogous to learning rate in GBM\n",
    "* Makes the model more robust by shrinking the weights on each step\n",
    "* Typical final values to be used: 0.01-0.2"
   ]
  },
  {
   "cell_type": "code",
   "execution_count": 17,
   "metadata": {
    "collapsed": false
   },
   "outputs": [
    {
     "name": "stdout",
     "output_type": "stream",
     "text": [
      "CPU times: user 3 µs, sys: 0 ns, total: 3 µs\n",
      "Wall time: 7.87 µs\n"
     ]
    }
   ],
   "source": [
    "%%time\n",
    "param_test = { 'learning_rate': [0.01, 0.2, 0.3], 'max_depth': [10] }\n",
    "\n",
    "# gsearch, pred = tune_xgb(param_test)\n",
    "# make_submission_gridsearch(gsearch, pred)"
   ]
  },
  {
   "cell_type": "markdown",
   "metadata": {},
   "source": [
    "## `colsample_bytree`\n",
    "\n",
    "`[default=1]`\n",
    "\n",
    "* Similar to `max_features` in GBM. Denotes the fraction of columns to be randomly samples for each tree.\n",
    "* Typical values: 0.5-1\n"
   ]
  },
  {
   "cell_type": "code",
   "execution_count": 21,
   "metadata": {
    "collapsed": false,
    "scrolled": true
   },
   "outputs": [
    {
     "name": "stdout",
     "output_type": "stream",
     "text": [
      "Fitting 3 folds for each of 3 candidates, totalling 9 fits\n",
      "[CV] max_depth=10, colsample_bytree=0.5 ..............................\n",
      "[CV] ..... max_depth=10, colsample_bytree=0.5, score=0.951584 - 4.4min\n",
      "[CV] max_depth=10, colsample_bytree=0.5 ..............................\n",
      "[CV] ..... max_depth=10, colsample_bytree=0.5, score=0.961536 - 4.3min\n",
      "[CV] max_depth=10, colsample_bytree=0.5 ..............................\n",
      "[CV] ..... max_depth=10, colsample_bytree=0.5, score=0.952211 - 4.4min\n",
      "[CV] max_depth=10, colsample_bytree=0.75 .............................\n",
      "[CV] .... max_depth=10, colsample_bytree=0.75, score=0.945259 - 5.7min\n",
      "[CV] max_depth=10, colsample_bytree=0.75 .............................\n",
      "[CV] .... max_depth=10, colsample_bytree=0.75, score=0.966289 - 5.4min\n",
      "[CV] max_depth=10, colsample_bytree=0.75 .............................\n",
      "[CV] .... max_depth=10, colsample_bytree=0.75, score=0.960061 - 4.9min\n",
      "[CV] max_depth=10, colsample_bytree=1 ................................\n",
      "[CV] ....... max_depth=10, colsample_bytree=1, score=0.939478 - 6.5min\n",
      "[CV] max_depth=10, colsample_bytree=1 ................................\n",
      "[CV] ....... max_depth=10, colsample_bytree=1, score=0.968797 - 6.4min\n",
      "[CV] max_depth=10, colsample_bytree=1 ................................\n",
      "[CV] ....... max_depth=10, colsample_bytree=1, score=0.960857 - 6.6min\n"
     ]
    },
    {
     "name": "stderr",
     "output_type": "stream",
     "text": [
      "[Parallel(n_jobs=1)]: Done   9 out of   9 | elapsed: 48.6min finished\n"
     ]
    },
    {
     "name": "stdout",
     "output_type": "stream",
     "text": [
      "[mean: 0.95511, std: 0.00455, params: {'max_depth': 10, 'colsample_bytree': 0.5}, mean: 0.95720, std: 0.00882, params: {'max_depth': 10, 'colsample_bytree': 0.75}, mean: 0.95638, std: 0.01238, params: {'max_depth': 10, 'colsample_bytree': 1}]\n",
      "{'max_depth': 10, 'colsample_bytree': 0.75}\n",
      "0.957203107604\n",
      "CPU times: user 54min 41s, sys: 49 s, total: 55min 30s\n",
      "Wall time: 57min 30s\n"
     ]
    }
   ],
   "source": [
    "%%time\n",
    "param_test = { 'colsample_bytree': [0.5, 0.75, 1], 'max_depth': [10] }\n",
    "\n",
    "# gsearch, pred = tune_xgb(param_test)\n",
    "# make_submission_gridsearch(gsearch, pred)"
   ]
  },
  {
   "cell_type": "code",
   "execution_count": null,
   "metadata": {
    "collapsed": true
   },
   "outputs": [],
   "source": [
    "%%time\n",
    "param_test = { 'colsample_bytree': [0.8, 1], 'max_depth': [10],  'learning_rate': [0.1, 0.2] }\n",
    "\n",
    "# gsearch, pred = tune_xgb(param_test)\n",
    "# make_submission_gridsearch(gsearch, pred)"
   ]
  }
 ],
 "metadata": {
  "kernelspec": {
   "display_name": "Python 2",
   "language": "python",
   "name": "python2"
  },
  "language_info": {
   "codemirror_mode": {
    "name": "ipython",
    "version": 2
   },
   "file_extension": ".py",
   "mimetype": "text/x-python",
   "name": "python",
   "nbconvert_exporter": "python",
   "pygments_lexer": "ipython2",
   "version": "2.7.6"
  }
 },
 "nbformat": 4,
 "nbformat_minor": 0
}
