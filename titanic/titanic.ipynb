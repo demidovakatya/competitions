{
 "cells": [
  {
   "cell_type": "markdown",
   "metadata": {},
   "source": [
    "Sources:\n",
    "\n",
    "* [https://habrahabr.ru/post/274171/](https://habrahabr.ru/post/274171/)\n",
    "* [https://habrahabr.ru/company/mlclass/blog/270973/](https://habrahabr.ru/company/mlclass/blog/270973/)"
   ]
  },
  {
   "cell_type": "code",
   "execution_count": 73,
   "metadata": {
    "collapsed": true
   },
   "outputs": [],
   "source": [
    "# coding=utf8\n",
    "\n",
    "import pandas as pd\n",
    "import numpy as np\n",
    "import matplotlib.pyplot as plt\n",
    "%matplotlib inline\n",
    "import xgboost as xgb\n",
    "import re\n",
    "import seaborn as sns\n",
    "from sklearn.linear_model import LinearRegression\n",
    "from sklearn.linear_model import LogisticRegression\n",
    "from sklearn.linear_model import SGDClassifier\n",
    "from sklearn.ensemble import RandomForestClassifier\n",
    "from sklearn.grid_search import GridSearchCV\n",
    "from sklearn.neighbors import KNeighborsClassifier\n",
    "from sklearn.naive_bayes import GaussianNB\n",
    "from sklearn.svm import SVC\n",
    "from sklearn.feature_selection import SelectKBest, f_classif\n",
    "from sklearn.cross_validation import StratifiedKFold\n",
    "from sklearn.cross_validation import KFold\n",
    "from sklearn.cross_validation import cross_val_score\n",
    "from sklearn.preprocessing import StandardScaler\n",
    "from sklearn import metrics\n",
    "\n",
    "pd.set_option('display.width', 256)"
   ]
  },
  {
   "cell_type": "code",
   "execution_count": 74,
   "metadata": {
    "collapsed": true
   },
   "outputs": [],
   "source": [
    "train_data = pd.read_csv(\"train.csv\")\n",
    "test_data = pd.read_csv(\"test.csv\")"
   ]
  },
  {
   "cell_type": "markdown",
   "metadata": {},
   "source": [
    "\n",
    "Combine `test_data` and `train_data` to have full information."
   ]
  },
  {
   "cell_type": "code",
   "execution_count": 75,
   "metadata": {
    "collapsed": true
   },
   "outputs": [],
   "source": [
    "all_data = pd.concat([train_data, test_data])"
   ]
  },
  {
   "cell_type": "code",
   "execution_count": 76,
   "metadata": {
    "collapsed": false
   },
   "outputs": [
    {
     "name": "stdout",
     "output_type": "stream",
     "text": [
      "======== survived by class and sex\n",
      "Pclass  Sex     Survived\n",
      "1       female  1           0.968085\n",
      "                0           0.031915\n",
      "        male    0           0.631148\n",
      "                1           0.368852\n",
      "2       female  1           0.921053\n",
      "                0           0.078947\n",
      "        male    0           0.842593\n",
      "                1           0.157407\n",
      "3       female  0           0.500000\n",
      "                1           0.500000\n",
      "        male    0           0.864553\n",
      "                1           0.135447\n",
      "dtype: float64\n"
     ]
    }
   ],
   "source": [
    "print(\"======== survived by class and sex\")\n",
    "print(train_data.groupby([\"Pclass\", \"Sex\"])[\"Survived\"].value_counts(normalize=True))"
   ]
  },
  {
   "cell_type": "code",
   "execution_count": 77,
   "metadata": {
    "collapsed": false
   },
   "outputs": [],
   "source": [
    "describe_fields = [\"Age\", \"Fare\", \"Pclass\", \"SibSp\", \"Parch\"]\n",
    "# print(\"======== train : males\")\n",
    "# print(train_data[train_data[\"Sex\"] == \"male\"][describe_fields].describe())\n",
    "# print(\"======== test : males\")\n",
    "# print(test_data[test_data[\"Sex\"] == \"male\"][describe_fields].describe())\n",
    "# print(\"======== train : females\")\n",
    "# print(train_data[train_data[\"Sex\"] == \"female\"][describe_fields].describe())\n",
    "# print(\"======== test : females\")\n",
    "# print(test_data[test_data[\"Sex\"] == \"female\"][describe_fields].describe())"
   ]
  },
  {
   "cell_type": "markdown",
   "metadata": {},
   "source": [
    "Соберем небольшой дайджест по полной выборке — он будет нужен для дальшейшего преобразования выборок. В частности, нам нужны значения которые будут подставлены вместо отсутствующих, а также различные справочники для перевода текстовых значения в числовые. Дело в том, что многие классификаторы могут работать только с числами, поэтому каким-то образом мы должны перевести категориальные признаки в числовые, но независимо от способа преобразования нам будут нужны справочники этих значений. "
   ]
  },
  {
   "cell_type": "code",
   "execution_count": 78,
   "metadata": {
    "collapsed": true
   },
   "outputs": [],
   "source": [
    "class DataDigest:\n",
    "\n",
    "    def __init__(self):\n",
    "        self.ages = None\n",
    "        self.fares = None\n",
    "        self.titles = None\n",
    "        self.cabins = None\n",
    "        self.families = None\n",
    "        self.tickets = None\n",
    "\n",
    "def get_title(name):\n",
    "    if pd.isnull(name):\n",
    "        return \"Null\"\n",
    "\n",
    "    title_search = re.search(' ([A-Za-z]+)\\.', name)\n",
    "    if title_search:\n",
    "        return title_search.group(1).lower()\n",
    "    else:\n",
    "        return \"None\"\n",
    "\n",
    "\n",
    "def get_family(row):\n",
    "    last_name = row[\"Name\"].split(\",\")[0]\n",
    "    if last_name:\n",
    "        family_size = 1 + row[\"Parch\"] + row[\"SibSp\"]\n",
    "        if family_size > 3:\n",
    "            return \"{0}_{1}\".format(last_name.lower(), family_size)\n",
    "        else:\n",
    "            return \"nofamily\"\n",
    "    else:\n",
    "        return \"unknown\"\n",
    "\n",
    "\n",
    "data_digest = DataDigest()\n",
    "data_digest.ages = all_data.groupby(\"Sex\")[\"Age\"].median()\n",
    "data_digest.fares = all_data.groupby(\"Pclass\")[\"Fare\"].median()\n",
    "data_digest.titles = pd.Index(test_data[\"Name\"].apply(get_title).unique())\n",
    "data_digest.families = pd.Index(test_data.apply(get_family, axis=1).unique())\n",
    "data_digest.cabins = pd.Index(test_data[\"Cabin\"].fillna(\"unknown\").unique())\n",
    "data_digest.tickets = pd.Index(test_data[\"Ticket\"].fillna(\"unknown\").unique())"
   ]
  },
  {
   "cell_type": "markdown",
   "metadata": {},
   "source": [
    "Теперь нам нужно выделить признаки. Как уже было сказано — многие классификаторы умеют работать только с числами, поэтому нам нужно:\n",
    "\n",
    "* Перевести категории в числовое представление\n",
    "* Выделить неявные признаки, то есть те, которые явно не заданы (титул, палуба)\n",
    "* Что-то сделать с отсутствующими значениями"
   ]
  },
  {
   "cell_type": "code",
   "execution_count": 79,
   "metadata": {
    "collapsed": true
   },
   "outputs": [],
   "source": [
    "def get_index(item, index):\n",
    "    if pd.isnull(item):\n",
    "        return -1\n",
    "\n",
    "    try:\n",
    "        return index.get_loc(item)\n",
    "    except KeyError:\n",
    "        return -1\n",
    "\n",
    "\n",
    "def munge_data(data, digest):\n",
    "    # Age - замена пропусков на медиану в зависимости от пола\n",
    "    data[\"AgeF\"] = data.apply(lambda r: digest.ages[r[\"Sex\"]] if pd.isnull(r[\"Age\"]) else r[\"Age\"], axis=1)\n",
    "\n",
    "    # Fare - замена пропусков на медиану в зависимости от класса\n",
    "    data[\"FareF\"] = data.apply(lambda r: digest.fares[r[\"Pclass\"]] if pd.isnull(r[\"Fare\"]) else r[\"Fare\"], axis=1)\n",
    "\n",
    "    # Gender - замена\n",
    "    genders = {\"male\": 1, \"female\": 0}\n",
    "    data[\"SexF\"] = data[\"Sex\"].apply(lambda s: genders.get(s))\n",
    "\n",
    "    # Gender - расширение\n",
    "    gender_dummies = pd.get_dummies(data[\"Sex\"], prefix=\"SexD\", dummy_na=False)\n",
    "    data = pd.concat([data, gender_dummies], axis=1)\n",
    "\n",
    "    # Embarkment - замена\n",
    "    embarkments = {\"U\": 0, \"S\": 1, \"C\": 2, \"Q\": 3}\n",
    "    data[\"EmbarkedF\"] = data[\"Embarked\"].fillna(\"U\").apply(lambda e: embarkments.get(e))\n",
    "\n",
    "    # Embarkment - расширение\n",
    "    embarkment_dummies = pd.get_dummies(data[\"Embarked\"], prefix=\"EmbarkedD\", dummy_na=False)\n",
    "    data = pd.concat([data, embarkment_dummies], axis=1)\n",
    "\n",
    "    # Количество родственников на борту\n",
    "    data[\"RelativesF\"] = data[\"Parch\"] + data[\"SibSp\"]\n",
    "\n",
    "    # Человек-одиночка?\n",
    "    data[\"SingleF\"] = data[\"RelativesF\"].apply(lambda r: 1 if r == 0 else 0)\n",
    "\n",
    "    # Deck - замена\n",
    "    decks = {\"U\": 0, \"A\": 1, \"B\": 2, \"C\": 3, \"D\": 4, \"E\": 5, \"F\": 6, \"G\": 7, \"T\": 8}\n",
    "    data[\"DeckF\"] = data[\"Cabin\"].fillna(\"U\").apply(lambda c: decks.get(c[0], -1))\n",
    "\n",
    "    # Deck - расширение\n",
    "    deck_dummies = pd.get_dummies(data[\"Cabin\"].fillna(\"U\").apply(lambda c: c[0]), prefix=\"DeckD\", dummy_na=False)\n",
    "    data = pd.concat([data, deck_dummies], axis=1)\n",
    "\n",
    "    # Titles - расширение\n",
    "    title_dummies = pd.get_dummies(data[\"Name\"].apply(lambda n: get_title(n)), prefix=\"TitleD\", dummy_na=False)\n",
    "    data = pd.concat([data, title_dummies], axis=1)\n",
    "\n",
    "    # амена текстов на индекс из соответствующего справочника или -1 если значения в справочнике нет (расширять не будем)\n",
    "    data[\"CabinF\"] = data[\"Cabin\"].fillna(\"unknown\").apply(lambda c: get_index(c, digest.cabins))\n",
    "\n",
    "    data[\"TitleF\"] = data[\"Name\"].apply(lambda n: get_index(get_title(n), digest.titles))\n",
    "\n",
    "    data[\"TicketF\"] = data[\"Ticket\"].apply(lambda t: get_index(t, digest.tickets))\n",
    "\n",
    "    data[\"FamilyF\"] = data.apply(lambda r: get_index(get_family(r), digest.families), axis=1)\n",
    "\n",
    "    # для статистики\n",
    "    age_bins = [0, 5, 10, 15, 20, 25, 30, 40, 50, 60, 70, 80, 90]\n",
    "    data[\"AgeR\"] = pd.cut(data[\"Age\"].fillna(-1), bins=age_bins).astype(object)\n",
    "\n",
    "    return data"
   ]
  },
  {
   "cell_type": "markdown",
   "metadata": {},
   "source": [
    "Преобразуем оба имеющихся набора и также опять создаем объединенный набор."
   ]
  },
  {
   "cell_type": "code",
   "execution_count": 80,
   "metadata": {
    "collapsed": true
   },
   "outputs": [],
   "source": [
    "train_data_munged = munge_data(train_data, data_digest)\n",
    "test_data_munged = munge_data(test_data, data_digest)\n",
    "all_data_munged = pd.concat([train_data_munged, test_data_munged])"
   ]
  },
  {
   "cell_type": "markdown",
   "metadata": {},
   "source": [
    "Хотя мы нацелились на использование Random Forest хочется попробовать и другие классификаторы. А с ними есть следующеая проблема: многие классификаторы чувствительны к масштабу признаков. Другими словами если у нас есть один признак со значениями от [-10,5] и второй признак со значениями [0,10000] то одинаковая в процентном отношении ошибка на обоих признаках будет приводить к большому отличию в абсолютном значении и классификатор будет трактовать второй признак как более важный.\n",
    "\n",
    "Чтобы избежать этого мы приводим все числовые (а других у нас уже нет) признаки к одинаковой шкале [-1,1] и нулевому среднему значению. Сделать это в sklearn можно очень просто."
   ]
  },
  {
   "cell_type": "markdown",
   "metadata": {
    "collapsed": true
   },
   "source": [
    "Сначала мы вычисляем коэффициенты масштабирования (снова пригодился полный набор), а затем масштабируем оба набора индивидуально.\n",
    "\n",
    "Ну и пришел момент, когда мы можем отобрать те признаки, с которыми будем работать дальше."
   ]
  },
  {
   "cell_type": "code",
   "execution_count": 81,
   "metadata": {
    "collapsed": true
   },
   "outputs": [],
   "source": [
    "predictors = [\n",
    "              \"Pclass\",\n",
    "              \"AgeF\",\n",
    "              \"TitleF\",\n",
    "              \"TitleD_mr\", \"TitleD_mrs\", \"TitleD_miss\", \"TitleD_master\", \"TitleD_ms\", \n",
    "              \"TitleD_col\", \"TitleD_rev\", \"TitleD_dr\",\n",
    "              \"CabinF\",\n",
    "              \"DeckF\",\n",
    "              \"DeckD_U\", \"DeckD_A\", \"DeckD_B\", \"DeckD_C\", \"DeckD_D\", \"DeckD_E\", \"DeckD_F\", \"DeckD_G\",\n",
    "              \"FamilyF\",\n",
    "              \"TicketF\",\n",
    "              \"SexF\",\n",
    "              \"SexD_male\", \"SexD_female\",\n",
    "              \"EmbarkedF\",\n",
    "              \"EmbarkedD_S\", \"EmbarkedD_C\", \"EmbarkedD_Q\",\n",
    "              \"FareF\",\n",
    "              \"SibSp\", \"Parch\",\n",
    "              \"RelativesF\",\n",
    "              \"SingleF\"\n",
    "            ]"
   ]
  },
  {
   "cell_type": "code",
   "execution_count": 82,
   "metadata": {
    "collapsed": false
   },
   "outputs": [],
   "source": [
    "scaler = StandardScaler()\n",
    "scaler.fit(all_data_munged[predictors])\n",
    "\n",
    "train_data_scaled = scaler.transform(train_data_munged[predictors])\n",
    "test_data_scaled = scaler.transform(test_data_munged[predictors])"
   ]
  },
  {
   "cell_type": "markdown",
   "metadata": {},
   "source": [
    "Просто ставим комментарий на ненужных и запускаем обучение. Какие именно не нужны — решать вам.\n",
    "\n",
    "\n",
    "Поскольку теперь у нас появилась колонка, в которой прописан диапазон, в который попадает возраст пассажира — оценим выживаемость в зависимости от возраста (диапазона). "
   ]
  },
  {
   "cell_type": "code",
   "execution_count": 83,
   "metadata": {
    "collapsed": false
   },
   "outputs": [],
   "source": [
    "# print(\"===== survived by age\")\n",
    "# print(train_data_munged.groupby([\"AgeR\"])[\"Survived\"].value_counts(normalize=True))\n",
    "\n",
    "# print(\"===== survived by gender and age\")\n",
    "# print(train_data_munged.groupby([\"Sex\", \"AgeR\"])[\"Survived\"].value_counts(normalize=True))\n",
    "\n",
    "# print(\"===== survived by class and age\")\n",
    "# print(train_data_munged.groupby([\"Pclass\", \"AgeR\"])[\"Survived\"].value_counts(normalize=True))"
   ]
  },
  {
   "cell_type": "markdown",
   "metadata": {},
   "source": [
    "Видим, что шансы на выживание велики у детей до 5 лет, а уже в пожилом возрасте шанс выжить падает с возрастом. Но это не относится к женщинам — у женщины шанс на выживаемость велик в любом возрасте. \n",
    "\n",
    "Попробуем визуализацию от seaborn — уж очень красивые картинки она дает, хотя я больше привык к тексту."
   ]
  },
  {
   "cell_type": "code",
   "execution_count": 84,
   "metadata": {
    "collapsed": false
   },
   "outputs": [
    {
     "data": {
      "text/plain": [
       "<seaborn.axisgrid.PairGrid at 0x118a74cf8>"
      ]
     },
     "execution_count": 84,
     "metadata": {},
     "output_type": "execute_result"
    },
    {
     "data": {
      "image/png": "[encoded data removed]",
      "text/plain": [
       "<matplotlib.figure.Figure at 0x118a74a20>"
      ]
     },
     "metadata": {},
     "output_type": "display_data"
    }
   ],
   "source": [
    "sns.pairplot(train_data_munged, vars=[\"AgeF\", \"Pclass\", \"SexF\"], hue=\"Survived\", dropna=True)\n",
    "# sns.plt.show()"
   ]
  },
  {
   "cell_type": "markdown",
   "metadata": {},
   "source": [
    "Оценим важность наших признаков алгоритмом SelectKBest. "
   ]
  },
  {
   "cell_type": "code",
   "execution_count": 85,
   "metadata": {
    "collapsed": false
   },
   "outputs": [
    {
     "data": {
      "text/plain": [
       "([<matplotlib.axis.XTick at 0x118a559e8>,\n",
       "  <matplotlib.axis.XTick at 0x118dab4a8>,\n",
       "  <matplotlib.axis.XTick at 0x118cd5278>,\n",
       "  <matplotlib.axis.XTick at 0x11974ec50>,\n",
       "  <matplotlib.axis.XTick at 0x119753780>,\n",
       "  <matplotlib.axis.XTick at 0x118a23fd0>,\n",
       "  <matplotlib.axis.XTick at 0x11064ba58>,\n",
       "  <matplotlib.axis.XTick at 0x1197567b8>,\n",
       "  <matplotlib.axis.XTick at 0x11975b2e8>,\n",
       "  <matplotlib.axis.XTick at 0x11975bdd8>,\n",
       "  <matplotlib.axis.XTick at 0x11975e908>,\n",
       "  <matplotlib.axis.XTick at 0x119761438>,\n",
       "  <matplotlib.axis.XTick at 0x119761f28>,\n",
       "  <matplotlib.axis.XTick at 0x119764a58>,\n",
       "  <matplotlib.axis.XTick at 0x119769588>,\n",
       "  <matplotlib.axis.XTick at 0x11976d0b8>,\n",
       "  <matplotlib.axis.XTick at 0x11976dba8>,\n",
       "  <matplotlib.axis.XTick at 0x1197716d8>,\n",
       "  <matplotlib.axis.XTick at 0x119774208>,\n",
       "  <matplotlib.axis.XTick at 0x119774cf8>,\n",
       "  <matplotlib.axis.XTick at 0x119776828>,\n",
       "  <matplotlib.axis.XTick at 0x11977c358>,\n",
       "  <matplotlib.axis.XTick at 0x11977ce48>,\n",
       "  <matplotlib.axis.XTick at 0x11977f978>,\n",
       "  <matplotlib.axis.XTick at 0x1197824a8>,\n",
       "  <matplotlib.axis.XTick at 0x119782f98>,\n",
       "  <matplotlib.axis.XTick at 0x119788ac8>,\n",
       "  <matplotlib.axis.XTick at 0x11978b5f8>,\n",
       "  <matplotlib.axis.XTick at 0x119790128>,\n",
       "  <matplotlib.axis.XTick at 0x119790c18>,\n",
       "  <matplotlib.axis.XTick at 0x119793748>,\n",
       "  <matplotlib.axis.XTick at 0x119798278>,\n",
       "  <matplotlib.axis.XTick at 0x119798d68>,\n",
       "  <matplotlib.axis.XTick at 0x11979b898>,\n",
       "  <matplotlib.axis.XTick at 0x11979f3c8>],\n",
       " <a list of 35 Text xticklabel objects>)"
      ]
     },
     "execution_count": 85,
     "metadata": {},
     "output_type": "execute_result"
    },
    {
     "data": {
      "image/png": "[encoded data removed]",
      "text/plain": [
       "<matplotlib.figure.Figure at 0x118ae48d0>"
      ]
     },
     "metadata": {},
     "output_type": "display_data"
    }
   ],
   "source": [
    "selector = SelectKBest(f_classif, k=5)\n",
    "selector.fit(train_data_munged[predictors], train_data_munged[\"Survived\"])\n",
    "\n",
    "scores = -np.log10(selector.pvalues_)\n",
    "\n",
    "plt.figure(figsize=(10,10))\n",
    "plt.bar(range(len(predictors)), scores)\n",
    "plt.xticks(range(len(predictors)), predictors, rotation='vertical')\n",
    "# plt.show()"
   ]
  },
  {
   "cell_type": "code",
   "execution_count": 86,
   "metadata": {
    "collapsed": true
   },
   "outputs": [],
   "source": [
    "cv = StratifiedKFold(train_data[\"Survived\"], n_folds=3, shuffle=True, random_state=1)"
   ]
  },
  {
   "cell_type": "code",
   "execution_count": 87,
   "metadata": {
    "collapsed": true
   },
   "outputs": [],
   "source": [
    "best_alg = None\n",
    "best_score = 0"
   ]
  },
  {
   "cell_type": "markdown",
   "metadata": {
    "collapsed": true
   },
   "source": [
    "Теперь протестируем работу различных классификаторов."
   ]
  },
  {
   "cell_type": "markdown",
   "metadata": {
    "collapsed": true
   },
   "source": [
    "#### KNeighborsClassifier:"
   ]
  },
  {
   "cell_type": "code",
   "execution_count": 88,
   "metadata": {
    "collapsed": false
   },
   "outputs": [
    {
     "name": "stdout",
     "output_type": "stream",
     "text": [
      "Accuracy (k-neighbors): 0.7957351290684623/0.011110544261068086\n"
     ]
    }
   ],
   "source": [
    "alg_ngbh = KNeighborsClassifier(n_neighbors=3)\n",
    "scores = cross_val_score(alg_ngbh, train_data_scaled, train_data_munged[\"Survived\"], cv=cv, n_jobs=-1)\n",
    "print(\"Accuracy (k-neighbors): {}/{}\".format(scores.mean(), scores.std()))"
   ]
  },
  {
   "cell_type": "code",
   "execution_count": 89,
   "metadata": {
    "collapsed": false
   },
   "outputs": [],
   "source": [
    "if scores.mean() > best_score:\n",
    "    best_score = scores.mean()\n",
    "    best_alg = alg_ngbh"
   ]
  },
  {
   "cell_type": "markdown",
   "metadata": {
    "collapsed": true
   },
   "source": [
    "#### SGDClassifier:"
   ]
  },
  {
   "cell_type": "code",
   "execution_count": 90,
   "metadata": {
    "collapsed": false,
    "scrolled": true
   },
   "outputs": [
    {
     "name": "stdout",
     "output_type": "stream",
     "text": [
      "Accuracy (sgd): 0.7239057239057239/0.015306601231185043\n"
     ]
    }
   ],
   "source": [
    "alg_sgd = SGDClassifier(random_state=1)\n",
    "scores = cross_val_score(alg_sgd, train_data_scaled, train_data_munged[\"Survived\"], cv=cv, n_jobs=-1)\n",
    "print(\"Accuracy (sgd): {}/{}\".format(scores.mean(), scores.std()))"
   ]
  },
  {
   "cell_type": "code",
   "execution_count": 91,
   "metadata": {
    "collapsed": true
   },
   "outputs": [],
   "source": [
    "if scores.mean() > best_score:\n",
    "    best_score = scores.mean()\n",
    "    best_alg = alg_sgd"
   ]
  },
  {
   "cell_type": "markdown",
   "metadata": {
    "collapsed": true
   },
   "source": [
    "#### SVC:"
   ]
  },
  {
   "cell_type": "code",
   "execution_count": 92,
   "metadata": {
    "collapsed": false,
    "scrolled": true
   },
   "outputs": [
    {
     "name": "stdout",
     "output_type": "stream",
     "text": [
      "Accuracy (svm): 0.8193041526374859/0.010408101566212916\n"
     ]
    }
   ],
   "source": [
    "alg_svm = SVC(C=1.0)\n",
    "scores = cross_val_score(alg_svm, train_data_scaled, train_data_munged[\"Survived\"], cv=cv, n_jobs=-1)\n",
    "print(\"Accuracy (svm): {}/{}\".format(scores.mean(), scores.std()))"
   ]
  },
  {
   "cell_type": "code",
   "execution_count": 93,
   "metadata": {
    "collapsed": true
   },
   "outputs": [],
   "source": [
    "if scores.mean() > best_score:\n",
    "    best_score = scores.mean()\n",
    "    best_alg = alg_svm"
   ]
  },
  {
   "cell_type": "markdown",
   "metadata": {
    "collapsed": true
   },
   "source": [
    "#### GaussianNB:"
   ]
  },
  {
   "cell_type": "code",
   "execution_count": 94,
   "metadata": {
    "collapsed": false,
    "scrolled": true
   },
   "outputs": [
    {
     "name": "stdout",
     "output_type": "stream",
     "text": [
      "Accuracy (naive bayes): 0.6206509539842874/0.16339123708526998\n"
     ]
    }
   ],
   "source": [
    "alg_nbs = GaussianNB()\n",
    "scores = cross_val_score(alg_nbs, train_data_scaled, train_data_munged[\"Survived\"], cv=cv, n_jobs=-1)\n",
    "print(\"Accuracy (naive bayes): {}/{}\".format(scores.mean(), scores.std()))"
   ]
  },
  {
   "cell_type": "code",
   "execution_count": 95,
   "metadata": {
    "collapsed": true
   },
   "outputs": [],
   "source": [
    "if scores.mean() > best_score:\n",
    "    best_score = scores.mean()\n",
    "    best_alg = alg_nbs"
   ]
  },
  {
   "cell_type": "markdown",
   "metadata": {
    "collapsed": true
   },
   "source": [
    "#### LinearRegression:"
   ]
  },
  {
   "cell_type": "code",
   "execution_count": 96,
   "metadata": {
    "collapsed": false
   },
   "outputs": [
    {
     "name": "stdout",
     "output_type": "stream",
     "text": [
      "Accuracy (linear regression): 0.8215488215488215/0.009523323652344083\n"
     ]
    },
    {
     "name": "stderr",
     "output_type": "stream",
     "text": [
      "/usr/local/lib/python3.5/site-packages/scipy/linalg/basic.py:884: RuntimeWarning: internal gelsd driver lwork query error, required iwork dimension not returned. This is likely the result of LAPACK bug 0038, fixed in LAPACK 3.2.2 (released July 21, 2010). Falling back to 'gelss' driver.\n",
      "  warnings.warn(mesg, RuntimeWarning)\n",
      "/usr/local/lib/python3.5/site-packages/scipy/linalg/basic.py:884: RuntimeWarning: internal gelsd driver lwork query error, required iwork dimension not returned. This is likely the result of LAPACK bug 0038, fixed in LAPACK 3.2.2 (released July 21, 2010). Falling back to 'gelss' driver.\n",
      "  warnings.warn(mesg, RuntimeWarning)\n",
      "/usr/local/lib/python3.5/site-packages/scipy/linalg/basic.py:884: RuntimeWarning: internal gelsd driver lwork query error, required iwork dimension not returned. This is likely the result of LAPACK bug 0038, fixed in LAPACK 3.2.2 (released July 21, 2010). Falling back to 'gelss' driver.\n",
      "  warnings.warn(mesg, RuntimeWarning)\n"
     ]
    }
   ],
   "source": [
    "def linear_scorer(estimator, x, y):\n",
    "    scorer_predictions = estimator.predict(x)\n",
    "\n",
    "    scorer_predictions[scorer_predictions > 0.5] = 1\n",
    "    scorer_predictions[scorer_predictions <= 0.5] = 0\n",
    "\n",
    "    return metrics.accuracy_score(y, scorer_predictions)\n",
    "\n",
    "alg_lnr = LinearRegression()\n",
    "scores = cross_val_score(alg_lnr, train_data_scaled, train_data_munged[\"Survived\"], cv=cv, n_jobs=-1,\n",
    "                         scoring=linear_scorer)\n",
    "print(\"Accuracy (linear regression): {}/{}\".format(scores.mean(), scores.std()))"
   ]
  },
  {
   "cell_type": "code",
   "execution_count": 97,
   "metadata": {
    "collapsed": true
   },
   "outputs": [],
   "source": [
    "if scores.mean() > best_score:\n",
    "    best_score = scores.mean()\n",
    "    best_alg = alg_lnr"
   ]
  },
  {
   "cell_type": "markdown",
   "metadata": {
    "collapsed": true
   },
   "source": [
    "Метод `linear_scorer` нужен, поскольку `LinearRegression` — это регрессия, возвращающая любое вещественное число. Соответственно мы разделяем шкалу границей `0.5` и приводим любые числа к двум классам — `0` и `1`."
   ]
  },
  {
   "cell_type": "markdown",
   "metadata": {},
   "source": [
    "#### LogisticRegression:"
   ]
  },
  {
   "cell_type": "code",
   "execution_count": 98,
   "metadata": {
    "collapsed": false,
    "scrolled": true
   },
   "outputs": [
    {
     "name": "stdout",
     "output_type": "stream",
     "text": [
      "Accuracy (logistic regression): 0.8159371492704826/0.012396589244879071\n"
     ]
    }
   ],
   "source": [
    "alg_log = LogisticRegression(random_state=1)\n",
    "scores = cross_val_score(alg_log, train_data_scaled, train_data_munged[\"Survived\"], cv=cv, n_jobs=-1,\n",
    "                         scoring=linear_scorer)\n",
    "print(\"Accuracy (logistic regression): {}/{}\".format(scores.mean(), scores.std()))"
   ]
  },
  {
   "cell_type": "code",
   "execution_count": 99,
   "metadata": {
    "collapsed": true
   },
   "outputs": [],
   "source": [
    "if scores.mean() > best_score:\n",
    "    best_score = scores.mean()\n",
    "    best_alg = alg_log"
   ]
  },
  {
   "cell_type": "markdown",
   "metadata": {},
   "source": [
    "#### RandomForestClassifier:"
   ]
  },
  {
   "cell_type": "code",
   "execution_count": 100,
   "metadata": {
    "collapsed": false,
    "scrolled": true
   },
   "outputs": [
    {
     "name": "stdout",
     "output_type": "stream",
     "text": [
      "Accuracy (random forest): 0.8294051627384961/0.004199391006480274\n"
     ]
    }
   ],
   "source": [
    "alg_frst = RandomForestClassifier(random_state=1, n_estimators=500, min_samples_split=8, min_samples_leaf=2)\n",
    "scores = cross_val_score(alg_frst, train_data_scaled, train_data_munged[\"Survived\"], cv=cv, n_jobs=-1)\n",
    "print(\"Accuracy (random forest): {}/{}\".format(scores.mean(), scores.std()))"
   ]
  },
  {
   "cell_type": "code",
   "execution_count": 101,
   "metadata": {
    "collapsed": true
   },
   "outputs": [],
   "source": [
    "if scores.mean() > best_score:\n",
    "    best_score = scores.mean()\n",
    "    best_alg = alg_frst"
   ]
  },
  {
   "cell_type": "markdown",
   "metadata": {
    "collapsed": true
   },
   "source": [
    "У меня получилось примерно так\n",
    "\n",
    "Алгоритм Random Forest победил и дисперсия у него неплохая — кажется он стабилен.\n",
    "\n",
    "\n",
    "Вроде все хорошо и можно отправлять результат, но остался один мутный момент: у каждого классификатора есть свои параметры — как нам понять что мы выбрали наилучший вариант? Без сомнения можно долго сидеть и перебирать параметры вручную — но что если поручить эту работу компьютеру?"
   ]
  },
  {
   "cell_type": "code",
   "execution_count": 102,
   "metadata": {
    "collapsed": false
   },
   "outputs": [
    {
     "name": "stdout",
     "output_type": "stream",
     "text": [
      "Fitting 3 folds for each of 27 candidates, totalling 81 fits\n"
     ]
    },
    {
     "name": "stderr",
     "output_type": "stream",
     "text": [
      "[Parallel(n_jobs=-1)]: Done  42 tasks      | elapsed:   17.1s\n",
      "[Parallel(n_jobs=-1)]: Done  81 out of  81 | elapsed:   29.8s finished\n"
     ]
    },
    {
     "name": "stdout",
     "output_type": "stream",
     "text": [
      "Accuracy (random forest auto): 0.8372615039281706 with params {'min_samples_leaf': 4, 'min_samples_split': 6, 'n_estimators': 400}\n"
     ]
    }
   ],
   "source": [
    "alg_frst_model = RandomForestClassifier(random_state=1)\n",
    "alg_frst_params = [{\n",
    "    \"n_estimators\": [350, 400, 450],\n",
    "    \"min_samples_split\": [6, 8, 10],\n",
    "    \"min_samples_leaf\": [1, 2, 4]\n",
    "}]\n",
    "alg_frst_grid = GridSearchCV(alg_frst_model, alg_frst_params, cv=cv, refit=True, verbose=1, n_jobs=-1)\n",
    "alg_frst_grid.fit(train_data_scaled, train_data_munged[\"Survived\"])\n",
    "alg_frst_best = alg_frst_grid.best_estimator_\n",
    "print(\"Accuracy (random forest auto): {} with params {}\"\n",
    "      .format(alg_frst_grid.best_score_, alg_frst_grid.best_params_))"
   ]
  },
  {
   "cell_type": "code",
   "execution_count": 103,
   "metadata": {
    "collapsed": true
   },
   "outputs": [],
   "source": [
    "if alg_frst_grid.best_score_ > best_score:\n",
    "    best_score = alg_frst_grid.best_score_\n",
    "    best_alg = alg_frst_best"
   ]
  },
  {
   "cell_type": "markdown",
   "metadata": {},
   "source": [
    "Получается еще лучше!\n",
    "\n",
    "Подбор можно сделать еще тоньше при наличии времени и желания — либо изменив параметры, либо используя другую стратегию подбора, например `RandomizedSearchCV`."
   ]
  },
  {
   "cell_type": "markdown",
   "metadata": {
    "collapsed": true
   },
   "source": [
    "Все хвалят xgboost — давайте попробуем и его."
   ]
  },
  {
   "cell_type": "code",
   "execution_count": 104,
   "metadata": {
    "collapsed": false
   },
   "outputs": [
    {
     "name": "stderr",
     "output_type": "stream",
     "text": [
      "[Parallel(n_jobs=1)]: Done  49 tasks       | elapsed:    7.4s\n",
      "[Parallel(n_jobs=1)]: Done  81 out of  81 | elapsed:   13.0s finished\n"
     ]
    },
    {
     "name": "stdout",
     "output_type": "stream",
     "text": [
      "Fitting 3 folds for each of 27 candidates, totalling 81 fits\n",
      "Accuracy (xgboost auto): 0.8338945005611672 with params {'max_depth': 2, 'learning_rate': 0.02, 'n_estimators': 270}\n"
     ]
    }
   ],
   "source": [
    "ald_xgb_model = xgb.XGBClassifier()\n",
    "ald_xgb_params = [\n",
    "    {\"n_estimators\": [230, 250, 270],\n",
    "     \"max_depth\": [1, 2, 4],\n",
    "     \"learning_rate\": [0.01, 0.02, 0.05]}\n",
    "]\n",
    "alg_xgb_grid = GridSearchCV(ald_xgb_model, ald_xgb_params, cv=cv, refit=True, verbose=1, n_jobs=1)\n",
    "alg_xgb_grid.fit(train_data_scaled, train_data_munged[\"Survived\"])\n",
    "alg_xgb_best = alg_xgb_grid.best_estimator_\n",
    "print(\"Accuracy (xgboost auto): {} with params {}\"\n",
    "      .format(alg_xgb_grid.best_score_, alg_xgb_grid.best_params_))"
   ]
  },
  {
   "cell_type": "code",
   "execution_count": 105,
   "metadata": {
    "collapsed": true
   },
   "outputs": [],
   "source": [
    "if alg_xgb_grid.best_score_ > best_score:\n",
    "    best_score = alg_xgb_grid.best_score_\n",
    "    best_alg = alg_xgb_best"
   ]
  },
  {
   "cell_type": "markdown",
   "metadata": {},
   "source": [
    "Почему-то тренировка зависала при использовании всех ядер, поэтому я ограничился одним потоком (`n_jobs=1`), но и в однопоточном режиме тренировка и классификация в xgboost работает очень быстро."
   ]
  },
  {
   "cell_type": "markdown",
   "metadata": {
    "collapsed": true
   },
   "source": [
    "## Результат"
   ]
  },
  {
   "cell_type": "code",
   "execution_count": 113,
   "metadata": {
    "collapsed": false
   },
   "outputs": [
    {
     "name": "stdout",
     "output_type": "stream",
     "text": [
      "Best RandomForest algorithm:\n",
      "RandomForestClassifier(bootstrap=True, class_weight=None, criterion='gini',\n",
      "            max_depth=None, max_features='auto', max_leaf_nodes=None,\n",
      "            min_samples_leaf=4, min_samples_split=6,\n",
      "            min_weight_fraction_leaf=0.0, n_estimators=400, n_jobs=1,\n",
      "            oob_score=False, random_state=1, verbose=0, warm_start=False)\n",
      "Accuracy (random forest auto): 0.8372615039281706\n"
     ]
    }
   ],
   "source": [
    "alg_test = alg_frst_best\n",
    "print(\"Best RandomForest algorithm:\")\n",
    "print(alg_test)\n",
    "print(\"Accuracy (random forest auto): {}\"\n",
    "      .format(alg_frst_grid.best_score_))\n",
    "\n",
    "# print(\"=\" * 40)\n",
    "# print(\"Best algorithm:\")\n",
    "# print(best_alg)\n",
    "# print(\"best score:\")\n",
    "# print(best_score)\n",
    "# alg_test = best_alg\n",
    "\n",
    "alg_test.fit(train_data_scaled, train_data_munged[\"Survived\"])\n",
    "\n",
    "predictions = alg_test.predict(test_data_scaled)\n",
    "\n",
    "submission = pd.DataFrame({\n",
    "    \"PassengerId\": test_data[\"PassengerId\"],\n",
    "    \"Survived\": predictions\n",
    "})\n",
    "\n"
   ]
  },
  {
   "cell_type": "code",
   "execution_count": 114,
   "metadata": {
    "collapsed": true
   },
   "outputs": [],
   "source": [
    "submission.to_csv(\"titanic-submission.csv\", index=False)"
   ]
  },
  {
   "cell_type": "code",
   "execution_count": 107,
   "metadata": {
    "collapsed": false
   },
   "outputs": [],
   "source": [
    "#  0.836139169473\n",
    "# sex, title: 0.793490460157 \n",
    "# +age: 0.795735129068\n",
    "# age, sex, title, embarked: 0.799102132435"
   ]
  }
 ],
 "metadata": {
  "kernelspec": {
   "display_name": "Python 3",
   "language": "python",
   "name": "python3"
  },
  "language_info": {
   "codemirror_mode": {
    "name": "ipython",
    "version": 3
   },
   "file_extension": ".py",
   "mimetype": "text/x-python",
   "name": "python",
   "nbconvert_exporter": "python",
   "pygments_lexer": "ipython3",
   "version": "3.5.2"
  }
 },
 "nbformat": 4,
 "nbformat_minor": 0
}
