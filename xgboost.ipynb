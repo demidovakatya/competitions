{
 "cells": [
  {
   "cell_type": "code",
   "execution_count": 3,
   "metadata": {
    "collapsed": true
   },
   "outputs": [],
   "source": [
    "import pandas as pd\n",
    "import numpy as np\n",
    "\n",
    "import matplotlib.pyplot as plt\n",
    "import seaborn as sns\n",
    "%matplotlib inline"
   ]
  },
  {
   "cell_type": "code",
   "execution_count": 4,
   "metadata": {
    "collapsed": true
   },
   "outputs": [],
   "source": [
    "from datetime import datetime"
   ]
  },
  {
   "cell_type": "code",
   "execution_count": 10,
   "metadata": {
    "collapsed": true
   },
   "outputs": [],
   "source": [
    "import xgboost as xgb"
   ]
  },
  {
   "cell_type": "code",
   "execution_count": 5,
   "metadata": {
    "collapsed": false
   },
   "outputs": [
    {
     "name": "stderr",
     "output_type": "stream",
     "text": [
      "/usr/local/lib/python3.5/site-packages/IPython/core/interactiveshell.py:2723: DtypeWarning: Columns (0) have mixed types. Specify dtype option on import or set low_memory=False.\n",
      "  interactivity=interactivity, compiler=compiler, result=result)\n",
      "/usr/local/lib/python3.5/site-packages/IPython/core/interactiveshell.py:2723: DtypeWarning: Columns (1) have mixed types. Specify dtype option on import or set low_memory=False.\n",
      "  interactivity=interactivity, compiler=compiler, result=result)\n"
     ]
    }
   ],
   "source": [
    "data_folder = 'data'\n",
    "\n",
    "train = pd.read_csv('/'.join([data_folder, \"data2.csv\"]), sep = ';')\n",
    "\n",
    "X = train.drop('cible1', axis = 1)\n",
    "y = train.cible1\n",
    "\n",
    "X_test = pd.read_csv('/'.join([data_folder, \"test2.csv\"]), sep = ';', index_col = 'id')\n",
    "\n",
    "ids = X_test.index\n",
    "\n",
    "def rename_X(X):\n",
    "    return X.rename_axis({'Finess' : 'finess',\n",
    "                           'Raison sociale' : 'raison_soc',\n",
    "                           'Provenance des patients (département)' : 'provenance',\n",
    "                           'Domaines d activités' : 'domain', \n",
    "                           'âge (deux classes >75 ans, <= 75 ans)' : 'age',\n",
    "                           'Nombre de séjours/séances MCO des patients en ALD' : 'n_sejours_ald',\n",
    "                           'Nombre total de séjours/séances' : 'n_sejours',\n",
    "                           'annee' : 'annee'},\n",
    "                          axis = 1)\n",
    "\n",
    "X = rename_X(X)\n",
    "X_test = rename_X(X_test)\n",
    "\n",
    "df = pd.concat([X, X_test], axis=0)"
   ]
  },
  {
   "cell_type": "code",
   "execution_count": 6,
   "metadata": {
    "collapsed": false
   },
   "outputs": [
    {
     "name": "stdout",
     "output_type": "stream",
     "text": [
      "(1879842, 8)\n",
      "(664524, 8)\n",
      "(2544366, 8)\n"
     ]
    }
   ],
   "source": [
    "print(X.shape)\n",
    "print(X_test.shape)\n",
    "print(df.shape)"
   ]
  },
  {
   "cell_type": "code",
   "execution_count": 7,
   "metadata": {
    "collapsed": false
   },
   "outputs": [
    {
     "name": "stdout",
     "output_type": "stream",
     "text": [
      "['finess', 'raison_soc', 'provenance', 'domain', 'age']\n",
      "['finess', 'raison_soc', 'provenance', 'domain', 'age', 'n_sejours_ald', 'n_sejours', 'annee']\n"
     ]
    }
   ],
   "source": [
    "cat_variables = [i for i in df.columns if df[i].dtype == 'O']\n",
    "print(cat_variables)\n",
    "\n",
    "from sklearn.preprocessing import LabelEncoder\n",
    "\n",
    "encods = [LabelEncoder() for col in cat_variables]\n",
    "for i, col in enumerate(cat_variables):\n",
    "    df[col] = encods[i].fit_transform(df[col].astype(str))\n",
    "\n",
    "# encods = [LabelEncoder() for col in cat_variables]\n",
    "\n",
    "# for i, col in enumerate(cat_variables):\n",
    "#     X_test[col] = encods[i].fit_transform(X_test[col].astype(str))\n",
    "\n",
    "num_variables = [i for i in df.columns if df[i].dtype != 'O']\n",
    "print(num_variables)\n",
    "\n",
    "df.fillna(0, inplace=True)\n",
    "\n",
    "X = df[:1879842]\n",
    "X_test = df[1879842:]"
   ]
  },
  {
   "cell_type": "code",
   "execution_count": 8,
   "metadata": {
    "collapsed": false,
    "scrolled": true
   },
   "outputs": [
    {
     "name": "stdout",
     "output_type": "stream",
     "text": [
      "(1879842, 8)\n",
      "(664524, 8)\n",
      "(2544366, 8)\n"
     ]
    }
   ],
   "source": [
    "print(X.shape)\n",
    "print(X_test.shape)\n",
    "print(df.shape)"
   ]
  },
  {
   "cell_type": "markdown",
   "metadata": {},
   "source": [
    "## run `xgboost`"
   ]
  },
  {
   "cell_type": "code",
   "execution_count": 11,
   "metadata": {
    "collapsed": false
   },
   "outputs": [],
   "source": [
    "dtrain = xgb.DMatrix(X, y, missing=0.0)\n",
    "dtest = xgb.DMatrix(X_test)"
   ]
  },
  {
   "cell_type": "code",
   "execution_count": 12,
   "metadata": {
    "collapsed": true
   },
   "outputs": [],
   "source": [
    "param = { }\n",
    "num_round = 100\n",
    "bst = xgb.train(param, dtrain, num_round)\n",
    "\n",
    "pred = bst.predict(dtest)"
   ]
  },
  {
   "cell_type": "markdown",
   "metadata": {},
   "source": [
    "## make submission"
   ]
  },
  {
   "cell_type": "code",
   "execution_count": 28,
   "metadata": {
    "collapsed": true
   },
   "outputs": [],
   "source": [
    "id = X_test.index"
   ]
  },
  {
   "cell_type": "code",
   "execution_count": 27,
   "metadata": {
    "collapsed": false,
    "scrolled": true
   },
   "outputs": [
    {
     "data": {
      "text/plain": [
       "(664524,)"
      ]
     },
     "execution_count": 27,
     "metadata": {},
     "output_type": "execute_result"
    }
   ],
   "source": [
    "id.shape"
   ]
  },
  {
   "cell_type": "code",
   "execution_count": 48,
   "metadata": {
    "collapsed": false
   },
   "outputs": [],
   "source": [
    "cible = ['{0:.1f}'.format(p) for p in pred]"
   ]
  },
  {
   "cell_type": "code",
   "execution_count": 49,
   "metadata": {
    "collapsed": false
   },
   "outputs": [
    {
     "data": {
      "text/plain": [
       "['0.0',\n",
       " '0.1',\n",
       " '0.0',\n",
       " '0.0',\n",
       " '0.0',\n",
       " '0.0',\n",
       " '0.0',\n",
       " '0.1',\n",
       " '0.0',\n",
       " '0.0',\n",
       " '-0.0',\n",
       " '0.0',\n",
       " '0.0',\n",
       " '0.1',\n",
       " '-0.0',\n",
       " '0.0',\n",
       " '0.0',\n",
       " '0.0',\n",
       " '0.0',\n",
       " '0.0']"
      ]
     },
     "execution_count": 49,
     "metadata": {},
     "output_type": "execute_result"
    }
   ],
   "source": [
    "cible[:20]"
   ]
  },
  {
   "cell_type": "code",
   "execution_count": 51,
   "metadata": {
    "collapsed": false
   },
   "outputs": [
    {
     "name": "stdout",
     "output_type": "stream",
     "text": [
      "saving to submissions/xgb_2909_2133.csv...\n"
     ]
    }
   ],
   "source": [
    "datename = datetime.now().strftime(format = '%d%m_%H%M')\n",
    "folder = 'submissions'\n",
    "filename = folder + '/' + 'xgb_' + datename + '.csv'\n",
    "print('saving to %s...' % filename)\n",
    "\n",
    "pd.DataFrame(cible, id).to_csv(filename, sep=';', index_label = 'id', header = ['cible'], float_format = '{.1f}')"
   ]
  },
  {
   "cell_type": "code",
   "execution_count": null,
   "metadata": {
    "collapsed": true
   },
   "outputs": [],
   "source": []
  }
 ],
 "metadata": {
  "kernelspec": {
   "display_name": "Python 3",
   "language": "python",
   "name": "python3"
  },
  "language_info": {
   "codemirror_mode": {
    "name": "ipython",
    "version": 3
   },
   "file_extension": ".py",
   "mimetype": "text/x-python",
   "name": "python",
   "nbconvert_exporter": "python",
   "pygments_lexer": "ipython3",
   "version": "3.5.2"
  }
 },
 "nbformat": 4,
 "nbformat_minor": 0
}
