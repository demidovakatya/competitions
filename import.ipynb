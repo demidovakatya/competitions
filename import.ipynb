{
 "cells": [
  {
   "cell_type": "code",
   "execution_count": 1,
   "metadata": {
    "collapsed": true
   },
   "outputs": [],
   "source": [
    "import pandas as pd\n",
    "\n",
    "data_folder = 'data'"
   ]
  },
  {
   "cell_type": "markdown",
   "metadata": {},
   "source": [
    "## `train`"
   ]
  },
  {
   "cell_type": "code",
   "execution_count": 2,
   "metadata": {
    "collapsed": false
   },
   "outputs": [],
   "source": [
    "train = pd.read_csv('/'.join([data_folder, \"data2.csv\"]), \n",
    "                    sep = ';', \n",
    "                    low_memory = False)\n",
    "\n",
    "X = train.drop('cible1', axis = 1)\n",
    "y = train.cible1"
   ]
  },
  {
   "cell_type": "code",
   "execution_count": 3,
   "metadata": {
    "collapsed": false
   },
   "outputs": [
    {
     "data": {
      "text/html": [
       "<div>\n",
       "<table border=\"1\" class=\"dataframe\">\n",
       "  <thead>\n",
       "    <tr style=\"text-align: right;\">\n",
       "      <th></th>\n",
       "      <th>Finess</th>\n",
       "      <th>Raison sociale</th>\n",
       "      <th>Provenance des patients (département)</th>\n",
       "      <th>Domaines d activités</th>\n",
       "      <th>âge (deux classes &gt;75 ans, &lt;= 75 ans)</th>\n",
       "      <th>Nombre de séjours/séances MCO des patients en ALD</th>\n",
       "      <th>Nombre total de séjours/séances</th>\n",
       "      <th>annee</th>\n",
       "    </tr>\n",
       "  </thead>\n",
       "  <tbody>\n",
       "    <tr>\n",
       "      <th>0</th>\n",
       "      <td>010007300</td>\n",
       "      <td>CLINIQUE AMBULATOIRE CENDANEG</td>\n",
       "      <td>01-Ain</td>\n",
       "      <td>D01-Digestif</td>\n",
       "      <td>&lt;=75 ans</td>\n",
       "      <td>19</td>\n",
       "      <td>1061</td>\n",
       "      <td>2008</td>\n",
       "    </tr>\n",
       "  </tbody>\n",
       "</table>\n",
       "</div>"
      ],
      "text/plain": [
       "      Finess                 Raison sociale  \\\n",
       "0  010007300  CLINIQUE AMBULATOIRE CENDANEG   \n",
       "\n",
       "  Provenance des patients (département) Domaines d activités  \\\n",
       "0                                01-Ain         D01-Digestif   \n",
       "\n",
       "  âge (deux classes >75 ans, <= 75 ans)  \\\n",
       "0                              <=75 ans   \n",
       "\n",
       "   Nombre de séjours/séances MCO des patients en ALD  \\\n",
       "0                                                 19   \n",
       "\n",
       "   Nombre total de séjours/séances  annee  \n",
       "0                             1061   2008  "
      ]
     },
     "execution_count": 3,
     "metadata": {},
     "output_type": "execute_result"
    }
   ],
   "source": [
    "X.head(1)"
   ]
  },
  {
   "cell_type": "markdown",
   "metadata": {},
   "source": [
    "## `test`"
   ]
  },
  {
   "cell_type": "code",
   "execution_count": 4,
   "metadata": {
    "collapsed": false,
    "scrolled": true
   },
   "outputs": [],
   "source": [
    "X_test = pd.read_csv('/'.join([data_folder, \"test2.csv\"]), \n",
    "                     sep = ';', \n",
    "                     index_col = 'id', \n",
    "                     low_memory = False)\n",
    "\n",
    "ids = X_test.index"
   ]
  },
  {
   "cell_type": "code",
   "execution_count": 5,
   "metadata": {
    "collapsed": false
   },
   "outputs": [
    {
     "data": {
      "text/html": [
       "<div>\n",
       "<table border=\"1\" class=\"dataframe\">\n",
       "  <thead>\n",
       "    <tr style=\"text-align: right;\">\n",
       "      <th></th>\n",
       "      <th>Finess</th>\n",
       "      <th>Raison sociale</th>\n",
       "      <th>Provenance des patients (département)</th>\n",
       "      <th>Domaines d activités</th>\n",
       "      <th>âge (deux classes &gt;75 ans, &lt;= 75 ans)</th>\n",
       "      <th>Nombre de séjours/séances MCO des patients en ALD</th>\n",
       "      <th>Nombre total de séjours/séances</th>\n",
       "      <th>annee</th>\n",
       "    </tr>\n",
       "    <tr>\n",
       "      <th>id</th>\n",
       "      <th></th>\n",
       "      <th></th>\n",
       "      <th></th>\n",
       "      <th></th>\n",
       "      <th></th>\n",
       "      <th></th>\n",
       "      <th></th>\n",
       "      <th></th>\n",
       "    </tr>\n",
       "  </thead>\n",
       "  <tbody>\n",
       "    <tr>\n",
       "      <th>0</th>\n",
       "      <td>010007300</td>\n",
       "      <td>CLINIQUE AMBULATOIRE CENDANEG</td>\n",
       "      <td>01-Ain</td>\n",
       "      <td>D01-Digestif</td>\n",
       "      <td>&lt;=75 ans</td>\n",
       "      <td>27</td>\n",
       "      <td>1187</td>\n",
       "      <td>2014</td>\n",
       "    </tr>\n",
       "  </tbody>\n",
       "</table>\n",
       "</div>"
      ],
      "text/plain": [
       "       Finess                 Raison sociale  \\\n",
       "id                                             \n",
       "0   010007300  CLINIQUE AMBULATOIRE CENDANEG   \n",
       "\n",
       "   Provenance des patients (département) Domaines d activités  \\\n",
       "id                                                              \n",
       "0                                 01-Ain         D01-Digestif   \n",
       "\n",
       "   âge (deux classes >75 ans, <= 75 ans)  \\\n",
       "id                                         \n",
       "0                               <=75 ans   \n",
       "\n",
       "    Nombre de séjours/séances MCO des patients en ALD  \\\n",
       "id                                                      \n",
       "0                                                  27   \n",
       "\n",
       "    Nombre total de séjours/séances  annee  \n",
       "id                                          \n",
       "0                              1187   2014  "
      ]
     },
     "execution_count": 5,
     "metadata": {},
     "output_type": "execute_result"
    }
   ],
   "source": [
    "X_test.head(1)"
   ]
  }
 ],
 "metadata": {
  "kernelspec": {
   "display_name": "Python 3",
   "language": "python",
   "name": "python3"
  },
  "language_info": {
   "codemirror_mode": {
    "name": "ipython",
    "version": 3
   },
   "file_extension": ".py",
   "mimetype": "text/x-python",
   "name": "python",
   "nbconvert_exporter": "python",
   "pygments_lexer": "ipython3",
   "version": "3.5.2"
  }
 },
 "nbformat": 4,
 "nbformat_minor": 1
}
